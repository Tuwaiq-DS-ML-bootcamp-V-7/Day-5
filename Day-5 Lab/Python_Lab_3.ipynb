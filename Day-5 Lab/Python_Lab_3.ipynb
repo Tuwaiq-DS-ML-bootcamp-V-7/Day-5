{
 "cells": [
  {
   "cell_type": "markdown",
   "metadata": {},
   "source": [
    "# Python_Lab_3\n"
   ]
  },
  {
   "cell_type": "markdown",
   "metadata": {},
   "source": [
    "Write a function named 'create_student_records' that takes a list of tuples. Each tuple contains a student's name and their scores in three subjects. The function should return a list of dictionaries, where each dictionary represents a student with keys: name, subject1, subject2, subject3. Use list comprehension to create the list of dictionaries.\n"
   ]
  },
  {
   "cell_type": "code",
   "execution_count": 22,
   "metadata": {},
   "outputs": [
    {
     "name": "stdout",
     "output_type": "stream",
     "text": [
      "[{'name': 'Maha', 'subject1': 40, 'subject2': 50, 'subject3': 61}, {'name': 'Roba', 'subject1': 70, 'subject2': 80, 'subject3': 75}, {'name': 'C- Wed', 'subject1': 99, 'subject2': 99, 'subject3': 99}, {'name': 'A- Wed', 'subject1': 100, 'subject2': 100, 'subject3': 100}]\n"
     ]
    }
   ],
   "source": [
    "def create_student_records(student_tuples):\n",
    "    student_records = [\n",
    "        {'name': name, 'subject1': subj1, 'subject2': subj2, 'subject3': subj3}\n",
    "        for name, subj1, subj2, subj3 in student_tuples\n",
    "    ]\n",
    "    return student_records\n",
    "\n",
    "student_tuples = [\n",
    "    ('Maha', 40, 50, 61),\n",
    "    ('Roba', 70, 80, 75),\n",
    "    ('C- Wed', 99, 99, 99),\n",
    "    ('A- Wed', 100, 100, 100)\n",
    "]\n",
    "\n",
    "student_records = create_student_records(student_tuples)\n",
    "print(student_records)\n"
   ]
  },
  {
   "cell_type": "markdown",
   "metadata": {},
   "source": [
    "### Task 2\n",
    "- Write a function named **'filter_and_sort_students'** that takes the list of dictionaries from Question 1 and returns a sorted list of student names who have an average score of 80 or more across all subjects. Sort the names in alphabetical order."
   ]
  },
  {
   "cell_type": "code",
   "execution_count": 23,
   "metadata": {},
   "outputs": [
    {
     "name": "stdout",
     "output_type": "stream",
     "text": [
      "[{'name': 'A- Wed', 'subject1': 100, 'subject2': 100, 'subject3': 100}, {'name': 'C- Wed', 'subject1': 99, 'subject2': 99, 'subject3': 99}]\n"
     ]
    }
   ],
   "source": [
    "def filter_and_sort_students(student_records):\n",
    "    filtered_students = []\n",
    "    \n",
    "    for student in student_records:\n",
    "        avg = (student['subject1'] + student['subject2'] + student['subject3']) / 3\n",
    "        \n",
    "        if avg > 80:\n",
    "            filtered_students.append(student)\n",
    "    \n",
    "    sorted_students = sorted(filtered_students, key=lambda x: x['name'])\n",
    "    \n",
    "    return sorted_students\n",
    "\n",
    "print(filter_and_sort_students(student_records))"
   ]
  },
  {
   "cell_type": "markdown",
   "metadata": {},
   "source": [
    "### Task 3\n",
    "- Write a function named **'get_product_info'** that prompts the user to enter information about a product. The function should ask for the product name, product price, and product quantity. If the user enters an invalid input (e.g., a non-numeric value for the price or quantity), the function should handle the error and prompt the user to enter the value again. Return a dictionary containing the product information."
   ]
  },
  {
   "cell_type": "code",
   "execution_count": 35,
   "metadata": {},
   "outputs": [
    {
     "name": "stdout",
     "output_type": "stream",
     "text": [
      "Enter only numbers\n",
      "{'name': 'doskc', 'price': 12.0, 'quantity': 3}\n"
     ]
    }
   ],
   "source": [
    "def get_product_info():\n",
    "    while True:\n",
    "        try:\n",
    "            product_name = input(\"Enter Product Name\")\n",
    "            product_price = float(input(\"Enter Product Price\"))\n",
    "            product_quantity = int(input(\"Enter Product Quantity\"))\n",
    "\n",
    "            if product_name and product_price and product_quantity:\n",
    "                product_info = {\"name\": product_name, \"price\": product_price, \"quantity\": product_quantity}\n",
    "                return product_info\n",
    "        except ValueError:\n",
    "            print('Enter only numbers')\n",
    "\n",
    "\n",
    "product_info = get_product_info()\n",
    "print(product_info)"
   ]
  },
  {
   "cell_type": "markdown",
   "metadata": {},
   "source": [
    "### Task 4\n",
    "- Write a function named **'get_even_numbers'** that takes a list of integers and returns a list of even numbers using list comprehension."
   ]
  },
  {
   "cell_type": "code",
   "execution_count": 39,
   "metadata": {},
   "outputs": [
    {
     "data": {
      "text/plain": [
       "[2, 4, 6, 8, 10]"
      ]
     },
     "execution_count": 39,
     "metadata": {},
     "output_type": "execute_result"
    }
   ],
   "source": [
    "def get_even_numbers(numbers):\n",
    "    even_numbers = [num for num in numbers if num % 2 == 0]\n",
    "    return even_numbers\n",
    "\n",
    "get_even_numbers([1, 2, 3, 4, 5, 6, 7, 8, 9, 10])"
   ]
  },
  {
   "cell_type": "markdown",
   "metadata": {},
   "source": [
    "### Task 5\n",
    "- Write a function named **'pair_elements'** that takes two lists of equal length as parameters and returns a list of tuples, where each tuple contains corresponding elements from the two lists. Use the zip function to achieve this."
   ]
  },
  {
   "cell_type": "markdown",
   "metadata": {},
   "source": []
  },
  {
   "cell_type": "code",
   "execution_count": 40,
   "metadata": {},
   "outputs": [
    {
     "data": {
      "text/plain": [
       "[(1, 'a'), (2, 'b'), (3, 'c')]"
      ]
     },
     "execution_count": 40,
     "metadata": {},
     "output_type": "execute_result"
    }
   ],
   "source": [
    "def pair_elements(l1, l2):\n",
    "    return list(zip(l1, l2))\n",
    "\n",
    "pair_elements([1, 2, 3], ['a', 'b', 'c'])"
   ]
  },
  {
   "cell_type": "markdown",
   "metadata": {},
   "source": [
    "### Task 6\n",
    "- Write a function named **'square_dict_lambda'** that takes a list of integers and returns a dictionary where the keys are the integers and the values are their squares. Use a lambda function within a dictionary comprehension to achieve this."
   ]
  },
  {
   "cell_type": "code",
   "execution_count": 41,
   "metadata": {},
   "outputs": [
    {
     "data": {
      "text/plain": [
       "{1: 1, 2: 4, 3: 9, 4: 16, 5: 25}"
      ]
     },
     "execution_count": 41,
     "metadata": {},
     "output_type": "execute_result"
    }
   ],
   "source": [
    "def square_dict_lambda(numbers):\n",
    "    return {num: num ** 2 for num in numbers}\n",
    "\n",
    "square_dict_lambda([1, 2, 3, 4, 5])\n"
   ]
  }
 ],
 "metadata": {
  "kernelspec": {
   "display_name": "Python 3 (ipykernel)",
   "language": "python",
   "name": "python3"
  },
  "language_info": {
   "codemirror_mode": {
    "name": "ipython",
    "version": 3
   },
   "file_extension": ".py",
   "mimetype": "text/x-python",
   "name": "python",
   "nbconvert_exporter": "python",
   "pygments_lexer": "ipython3",
   "version": "3.11.4"
  }
 },
 "nbformat": 4,
 "nbformat_minor": 2
}
