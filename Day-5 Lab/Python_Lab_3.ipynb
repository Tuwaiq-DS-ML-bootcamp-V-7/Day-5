{
 "cells": [
  {
   "cell_type": "markdown",
   "metadata": {},
   "source": [
    "# Python_Lab_3\n"
   ]
  },
  {
   "cell_type": "markdown",
   "metadata": {},
   "source": [
    "### Task 1\n",
    "- Write a function named **'create_student_records'** that takes a list of tuples. Each tuple contains a student's name and their scores in three subjects. The function should return a list of dictionaries, where each dictionary represents a student with keys: name, subject1, subject2, subject3. Use list comprehension to create the list of dictionaries."
   ]
  },
  {
   "cell_type": "code",
   "execution_count": 21,
   "metadata": {},
   "outputs": [
    {
     "name": "stdout",
     "output_type": "stream",
     "text": [
      "[{'name': 'osama', 'sub1': 77, 'sub2': 77, 'sub3': 89}, {'name': 'ammar', 'sub1': 2, 'sub2': 4, 'sub3': 6}, {'name': 'imam', 'sub1': 99, 'sub2': 100, 'sub3': 90}]\n"
     ]
    }
   ],
   "source": [
    "# write your code here ^_^\n",
    "def create_student_records(student):\n",
    "    l = [{'name': i[0], 'sub1':i[1], 'sub2' :i[2], 'sub3' :i[3]}  for i in student]\n",
    "    return l\n",
    "students = [('osama',77,77,89),('ammar',2,4,6),('imam',99,100,90)]\n",
    "print(create_student_records(students))"
   ]
  },
  {
   "cell_type": "markdown",
   "metadata": {},
   "source": [
    "### Task 2\n",
    "- Write a function named **'filter_and_sort_students'** that takes the list of dictionaries from Question 1 and returns a sorted list of student names who have an average score of 80 or more across all subjects. Sort the names in alphabetical order."
   ]
  },
  {
   "cell_type": "code",
   "execution_count": 25,
   "metadata": {},
   "outputs": [
    {
     "name": "stdout",
     "output_type": "stream",
     "text": [
      "['ammar', 'imam']\n"
     ]
    }
   ],
   "source": [
    "# write your code here ^_^\n",
    "def filter_and_sort_students(students):\n",
    "    Fstudent = list()\n",
    "    for student in students:\n",
    "        if (student['sub1']+student['sub2']+student['sub3'])/3 >= 80:\n",
    "            Fstudent.append(student['name']) \n",
    "    fstudent = Fstudent.sort()\n",
    "    return Fstudent\n",
    "\n",
    "students = [('osama',79,79,79),('ammar',45,55,688),('imam',99,100,90)]\n",
    "originalDict = create_student_records(students)\n",
    "print(filter_and_sort_students(originalDict))\n",
    "\n",
    "    \n",
    "    "
   ]
  },
  {
   "cell_type": "markdown",
   "metadata": {},
   "source": [
    "### Task 3\n",
    "- Write a function named **'get_product_info'** that prompts the user to enter information about a product. The function should ask for the product name, product price, and product quantity. If the user enters an invalid input (e.g., a non-numeric value for the price or quantity), the function should handle the error and prompt the user to enter the value again. Return a dictionary containing the product information."
   ]
  },
  {
   "cell_type": "code",
   "execution_count": 32,
   "metadata": {},
   "outputs": [
    {
     "name": "stdout",
     "output_type": "stream",
     "text": [
      "{'name': 'oo', 'price': '1', 'quantity': '2'}\n"
     ]
    }
   ],
   "source": [
    "# write your code here ^_^\n",
    "def get_product_info():\n",
    "    name = input('inter the name of the product please')\n",
    "    price =input('inter the product price please ')\n",
    "    \n",
    "    if not price.isdigit():\n",
    "        price = input('invalid input, plese inter a number')\n",
    "    \n",
    "    quantity = input('inter the quantity please ')\n",
    "    if not quantity.isdigit():\n",
    "        quantity = input('invalid input, plese inter a number')\n",
    "    product = {'name':name , 'price' : price, 'quantity' : quantity }\n",
    "\n",
    "    return product\n",
    "\n",
    "print(get_product_info())\n",
    "    \n",
    "    "
   ]
  },
  {
   "cell_type": "markdown",
   "metadata": {},
   "source": [
    "### Task 4\n",
    "- Write a function named **'get_even_numbers'** that takes a list of integers and returns a list of even numbers using list comprehension."
   ]
  },
  {
   "cell_type": "code",
   "execution_count": 35,
   "metadata": {},
   "outputs": [
    {
     "name": "stdout",
     "output_type": "stream",
     "text": [
      "[2, 34, 6, 8, 0]\n"
     ]
    }
   ],
   "source": [
    "# write your code here ^_^\n",
    "\n",
    "def get_even_numbers(nums):\n",
    "    even = [i for i in nums if i%2 == 0]\n",
    "    return even\n",
    "\n",
    "l = [1,2,34,5,6,7,8,9,0]\n",
    "\n",
    "print(get_even_numbers(l))"
   ]
  },
  {
   "cell_type": "markdown",
   "metadata": {},
   "source": [
    "### Task 5\n",
    "- Write a function named **'pair_elements'** that takes two lists of equal length as parameters and returns a list of tuples, where each tuple contains corresponding elements from the two lists. Use the zip function to achieve this."
   ]
  },
  {
   "cell_type": "markdown",
   "metadata": {},
   "source": []
  },
  {
   "cell_type": "code",
   "execution_count": 38,
   "metadata": {},
   "outputs": [
    {
     "name": "stdout",
     "output_type": "stream",
     "text": [
      "[(1, 5), (2, 6), (3, 7), (4, 8), (5, 9)]\n"
     ]
    }
   ],
   "source": [
    "# write your code here ^_^\n",
    "\n",
    "def pair_elements(l1,l2):\n",
    "    l3 = list(zip(l1,l2))\n",
    "    return l3\n",
    "\n",
    "l = [1,2,3,4,5]\n",
    "k = [5,6,7,8,9]\n",
    "\n",
    "print(pair_elements(l,k))\n"
   ]
  },
  {
   "cell_type": "markdown",
   "metadata": {},
   "source": [
    "### Task 6\n",
    "- Write a function named **'square_dict_lambda'** that takes a list of integers and returns a dictionary where the keys are the integers and the values are their squares. Use a lambda function within a dictionary comprehension to achieve this."
   ]
  },
  {
   "cell_type": "code",
   "execution_count": 45,
   "metadata": {},
   "outputs": [
    {
     "name": "stdout",
     "output_type": "stream",
     "text": [
      "{1: 1, 2: 4, 3: 9, 4: 16, 5: 25}\n"
     ]
    }
   ],
   "source": [
    "# write your code here ^_^\n",
    "def square_dict_lambda(l):\n",
    "    sq = lambda x : x**2\n",
    "    dict = {i : sq(i) for i in l}\n",
    "    return dict\n",
    "l = [1,2,3,4,5]\n",
    "print(square_dict_lambda(l))\n",
    "\n",
    "\n",
    "\n"
   ]
  }
 ],
 "metadata": {
  "kernelspec": {
   "display_name": "Python 3",
   "language": "python",
   "name": "python3"
  },
  "language_info": {
   "codemirror_mode": {
    "name": "ipython",
    "version": 3
   },
   "file_extension": ".py",
   "mimetype": "text/x-python",
   "name": "python",
   "nbconvert_exporter": "python",
   "pygments_lexer": "ipython3",
   "version": "3.12.1"
  }
 },
 "nbformat": 4,
 "nbformat_minor": 2
}
