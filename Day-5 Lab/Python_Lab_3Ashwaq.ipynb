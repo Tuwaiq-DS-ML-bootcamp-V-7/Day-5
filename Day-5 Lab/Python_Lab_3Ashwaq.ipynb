{
 "cells": [
  {
   "cell_type": "markdown",
   "metadata": {},
   "source": [
    "# Python_Lab_3\n"
   ]
  },
  {
   "cell_type": "markdown",
   "metadata": {},
   "source": [
    "### Task 1\n",
    "- Write a function named **'create_student_records'** that takes a list of tuples. Each tuple contains a student's name and their scores in three subjects. The function should return a list of dictionaries, where each dictionary represents a student with keys: name, subject1, subject2, subject3. Use list comprehension to create the list of dictionaries."
   ]
  },
  {
   "cell_type": "code",
   "execution_count": 234,
   "metadata": {},
   "outputs": [
    {
     "name": "stdout",
     "output_type": "stream",
     "text": [
      "[{'name': 'ola', 'Computer Science': 85, 'Data Science': 93, 'Network': 100}, {'name': 'Elma', 'Computer Science': 85, 'Data Science': 30, 'Network': 40}, {'name': 'Amjad', 'Computer Science': 85, 'Data Science': 93, 'Network': 100}]\n"
     ]
    }
   ],
   "source": [
    "def create_student_recordsc():\n",
    "    dicc = [{'name': name ,'Computer Science' : record[0] ,'Data Science' : record[1] , 'Network': record[2]}\n",
    "                                 for name , record in records]\n",
    "    return dicc\n",
    "\n",
    "records = [('ola', (85, 93, 100)) , ('Elma', (85, 30, 40)) , ('Amjad', (85, 93, 100))]\n",
    "print(create_student_records(records))   "
   ]
  },
  {
   "cell_type": "markdown",
   "metadata": {},
   "source": [
    "### Task 2\n",
    "- Write a function named **'filter_and_sort_students'** that takes the list of dictionaries from Question 1 and returns a sorted list of student names who have an average score of 80 or more across all subjects. Sort the names in alphabetical order."
   ]
  },
  {
   "cell_type": "code",
   "execution_count": 246,
   "metadata": {},
   "outputs": [
    {
     "name": "stdout",
     "output_type": "stream",
     "text": [
      "['Amjad', 'Ola']\n"
     ]
    }
   ],
   "source": [
    "###\n",
    "def filter_and_sort_students(records):\n",
    "    sor_list = [student['name'] \n",
    "                   for student in records\n",
    "                   if (student['Computer Science'] + student['Data Science'] + student['Network']) / 3 >= 80 ]\n",
    "    \n",
    "    sor_list.sort()\n",
    "    return sor_list\n",
    "\n",
    "result = filter_and_sort_students(records)\n",
    "print(result)"
   ]
  },
  {
   "cell_type": "markdown",
   "metadata": {},
   "source": [
    "### Task 3\n",
    "- Write a function named **'get_product_info'** that prompts the user to enter information about a product. The function should ask for the product name, product price, and product quantity. If the user enters an invalid input (e.g., a non-numeric value for the price or quantity), the function should handle the error and prompt the user to enter the value again. Return a dictionary containing the product information."
   ]
  },
  {
   "cell_type": "code",
   "execution_count": 1,
   "metadata": {},
   "outputs": [
    {
     "name": "stdin",
     "output_type": "stream",
     "text": [
      "Enter product name:  5\n"
     ]
    },
    {
     "name": "stdout",
     "output_type": "stream",
     "text": [
      "Invalid input. Please enter the correct data types.\n"
     ]
    },
    {
     "name": "stdin",
     "output_type": "stream",
     "text": [
      "Enter product name:  gg\n",
      "Enter product price:  55\n",
      "Enter product quantity:  8\n"
     ]
    },
    {
     "name": "stdout",
     "output_type": "stream",
     "text": [
      "{'gg': {'price': 55.0, 'quantity': 8}}\n"
     ]
    }
   ],
   "source": [
    "product_information = {}\n",
    "\n",
    "def get_product_info():\n",
    "    while True:\n",
    "        try:\n",
    "            name = input(\"Enter product name: \")\n",
    "            if not name.isalpha():\n",
    "                print(\"Invalid input. Please enter the correct data types.\")\n",
    "                continue\n",
    "            price = float(input(\"Enter product price: \"))\n",
    "            quantity = int(input(\"Enter product quantity: \"))\n",
    "            product_information[name] = {'price': price, 'quantity': quantity}\n",
    "            break\n",
    "        except ValueError:\n",
    "            print(\"Invalid input. Please enter the correct data types.\")\n",
    "\n",
    "    return product_information\n",
    "\n",
    "print(get_product_info())\n"
   ]
  },
  {
   "cell_type": "markdown",
   "metadata": {},
   "source": [
    "### Task 4\n",
    "- Write a function named **'get_even_numbers'** that takes a list of integers and returns a list of even numbers using list comprehension."
   ]
  },
  {
   "cell_type": "code",
   "execution_count": 59,
   "metadata": {},
   "outputs": [
    {
     "name": "stdout",
     "output_type": "stream",
     "text": [
      "[2, 4, 6, 8, 10]\n"
     ]
    }
   ],
   "source": [
    "li = [1,2,3,4,5,6,7,8,9,10]\n",
    "\n",
    "def get_even_numbers(li):\n",
    "    even_number = [i for i in li if i % 2 == 0]\n",
    "    return even_number\n",
    "\n",
    "print(get_even_numbers(li))"
   ]
  },
  {
   "cell_type": "markdown",
   "metadata": {},
   "source": [
    "### Task 5\n",
    "- Write a function named **'pair_elements'** that takes two lists of equal length as parameters and returns a list of tuples, where each tuple contains corresponding elements from the two lists. Use the zip function to achieve this."
   ]
  },
  {
   "cell_type": "code",
   "execution_count": 15,
   "metadata": {},
   "outputs": [
    {
     "name": "stdout",
     "output_type": "stream",
     "text": [
      "[(1, 4), (3, 6), (5, 9), (7, 0)]\n"
     ]
    }
   ],
   "source": [
    "n1 = [1,3,5,7]\n",
    "n2 = [4,6,9,0,]\n",
    "\n",
    "def pair_elements(n1,n2):\n",
    "    if len(n1) != len(n2):\n",
    "        print('lists are not in equal length')\n",
    "        return []\n",
    "    else:\n",
    "        return list(zip(n1,n2))\n",
    "\n",
    "\n",
    "print(pair_elements(n1,n2))\n",
    "        "
   ]
  },
  {
   "cell_type": "markdown",
   "metadata": {},
   "source": [
    "### Task 6\n",
    "- Write a function named **'square_dict_lambda'** that takes a list of integers and returns a dictionary where the keys are the integers and the values are their squares. Use a lambda function within a dictionary comprehension to achieve this."
   ]
  },
  {
   "cell_type": "code",
   "execution_count": 165,
   "metadata": {},
   "outputs": [
    {
     "name": "stdout",
     "output_type": "stream",
     "text": [
      "{1: 1, 2: 4, 3: 9, 4: 16, 5: 25, 6: 36, 7: 49, 8: 64, 9: 81}\n"
     ]
    }
   ],
   "source": [
    "list_of_integers = [1,2,3,4,5,6,7,8,9]\n",
    "def square_dict_lambda():\n",
    "    square = { x : (lambda x : x**2)(x) for x in list_of_integers}\n",
    "    return square\n",
    "\n",
    "\n",
    "print(square_dict_lambda())"
   ]
  },
  {
   "cell_type": "code",
   "execution_count": null,
   "metadata": {},
   "outputs": [],
   "source": []
  }
 ],
 "metadata": {
  "kernelspec": {
   "display_name": "Python 3 (ipykernel)",
   "language": "python",
   "name": "python3"
  },
  "language_info": {
   "codemirror_mode": {
    "name": "ipython",
    "version": 3
   },
   "file_extension": ".py",
   "mimetype": "text/x-python",
   "name": "python",
   "nbconvert_exporter": "python",
   "pygments_lexer": "ipython3",
   "version": "3.12.4"
  }
 },
 "nbformat": 4,
 "nbformat_minor": 4
}
