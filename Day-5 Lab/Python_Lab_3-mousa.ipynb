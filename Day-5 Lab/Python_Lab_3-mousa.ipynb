{
 "cells": [
  {
   "cell_type": "markdown",
   "metadata": {},
   "source": [
    "# Python_Lab_3\n"
   ]
  },
  {
   "cell_type": "markdown",
   "metadata": {},
   "source": [
    "### Task 1\n",
    "- Write a function named **'create_student_records'** that takes a list of tuples. Each tuple contains a student's name and their scores in three subjects. The function should return a list of dictionaries, where each dictionary represents a student with keys: name, subject1, subject2, subject3. Use list comprehension to create the list of dictionaries."
   ]
  },
  {
   "cell_type": "code",
   "execution_count": 1,
   "metadata": {},
   "outputs": [
    {
     "data": {
      "text/plain": [
       "[{'name': 'khalid', 'subject1': 100, 'subject2': 97, 'subject3': 99},\n",
       " {'name': 'ali', 'subject1': 93, 'subject2': 88, 'subject3': 86},\n",
       " {'name': 'karim', 'subject1': 87, 'subject2': 78, 'subject3': 89}]"
      ]
     },
     "execution_count": 1,
     "metadata": {},
     "output_type": "execute_result"
    }
   ],
   "source": [
    "# write your code here ^_^\n",
    "def create_student_records(lst):\n",
    "    tpl ={}\n",
    "    tpl= [{ \"name\": lst[0], \"subject1\": lst[1], \"subject2\": lst[2], \"subject3\": lst[3]} for lst in lst]\n",
    "    return tpl\n",
    "\n",
    "take_list=[(\"khalid\",100,97,99),\n",
    "          (\"ali\",93,88,86),\n",
    "          (\"karim\",87,78,89)]\n",
    "create_student_records(take_list)\n",
    "        \n",
    "    \n",
    "    "
   ]
  },
  {
   "cell_type": "markdown",
   "metadata": {},
   "source": [
    "### Task 2\n",
    "- Write a function named **'filter_and_sort_students'** that takes the list of dictionaries from Question 1 and returns a sorted list of student names who have an average score of 80 or more across all subjects. Sort the names in alphabetical order."
   ]
  },
  {
   "cell_type": "code",
   "execution_count": 15,
   "metadata": {},
   "outputs": [
    {
     "data": {
      "text/plain": [
       "['ali', 'karim', 'khalid']"
      ]
     },
     "execution_count": 15,
     "metadata": {},
     "output_type": "execute_result"
    }
   ],
   "source": [
    " def filter_and_sort_students(student_info):\n",
    "\n",
    "    filter_name = [student_info['name'] for student_info in student_info if (student_info['subject1'] + student_info['subject2'] + student_info['subject3']) / 3>=80]\n",
    "    \n",
    "    sort_names = sorted(filter_name)\n",
    "    return sort_names\n",
    "    \n",
    "filter_and_sort_students(create_student_records(take_list))"
   ]
  },
  {
   "cell_type": "markdown",
   "metadata": {},
   "source": [
    "### Task 3\n",
    "- Write a function named **'get_product_info'** that prompts the user to enter information about a product. The function should ask for the product name, product price, and product quantity. If the user enters an invalid input (e.g., a non-numeric value for the price or quantity), the function should handle the error and prompt the user to enter the value again. Return a dictionary containing the product information."
   ]
  },
  {
   "cell_type": "code",
   "execution_count": 26,
   "metadata": {},
   "outputs": [
    {
     "data": {
      "text/plain": [
       "{'the Name is': 2, 'The price is': 2, 'The quantity is': 2}"
      ]
     },
     "execution_count": 26,
     "metadata": {},
     "output_type": "execute_result"
    }
   ],
   "source": [
    "# write your code here ^_^\n",
    "def get_product_info():\n",
    "\n",
    "  while True:\n",
    "    try:\n",
    "      enterd_name = input(\"Enter the product name : \")\n",
    "      enterd_name = float(input(\"Enter the product price: \"))\n",
    "      enterd_name = int(input(\"Enter the product quantity: \"))\n",
    "      return {'the Name is': enterd_name, 'The price is': enterd_name, 'The quantity is': enterd_name}\n",
    "    except ValueError: #if input != int&float print the except\n",
    "      print(\"enter number in price and quantity.\")\n",
    "get_product_info()"
   ]
  },
  {
   "cell_type": "markdown",
   "metadata": {},
   "source": [
    "### Task 4\n",
    "- Write a function named **'get_even_numbers'** that takes a list of integers and returns a list of even numbers using list comprehension."
   ]
  },
  {
   "cell_type": "code",
   "execution_count": 31,
   "metadata": {},
   "outputs": [
    {
     "data": {
      "text/plain": [
       "[2, 4, 10, 6, 8, 12, 60, 70, 30, 20]"
      ]
     },
     "execution_count": 31,
     "metadata": {},
     "output_type": "execute_result"
    }
   ],
   "source": [
    "# write your code here ^_^\n",
    "def get_even_numbers(lst):\n",
    "      return [num for num in lst if num % 2 == 0]\n",
    "\n",
    "listNum=[1,2,3,4,10,5,6,7,8,9,12,53,55,60,70,30,20]\n",
    "#get_even_numbers(range(50)) test \n",
    "get_even_numbers(listNum)"
   ]
  },
  {
   "cell_type": "markdown",
   "metadata": {},
   "source": [
    "### Task 5\n",
    "- Write a function named **'pair_elements'** that takes two lists of equal length as parameters and returns a list of tuples, where each tuple contains corresponding elements from the two lists. Use the zip function to achieve this."
   ]
  },
  {
   "cell_type": "markdown",
   "metadata": {},
   "source": []
  },
  {
   "cell_type": "code",
   "execution_count": 35,
   "metadata": {},
   "outputs": [
    {
     "data": {
      "text/plain": [
       "[('a', 1), ('b', 2), ('c', 3)]"
      ]
     },
     "execution_count": 35,
     "metadata": {},
     "output_type": "execute_result"
    }
   ],
   "source": [
    "# write your code here ^_^\n",
    "def pair_elements(lst1,lst2):\n",
    "     \n",
    "    if len(lst1) != len(lst2):\n",
    "        raise ValueError(\"lists must equal length !\")\n",
    "    \n",
    "    return list(zip(lst1, lst2))\n",
    "test1=['a','b','c']\n",
    "test2=[1,2,3]\n",
    "pair_elements(test1,test2)"
   ]
  },
  {
   "cell_type": "markdown",
   "metadata": {},
   "source": [
    "### Task 6\n",
    "- Write a function named **'square_dict_lambda'** that takes a list of integers and returns a dictionary where the keys are the integers and the values are their squares. Use a lambda function within a dictionary comprehension to achieve this."
   ]
  },
  {
   "cell_type": "code",
   "execution_count": 37,
   "metadata": {},
   "outputs": [
    {
     "data": {
      "text/plain": [
       "{2: 4, 3: 9, 10: 100, 1: 1, 4: 16}"
      ]
     },
     "execution_count": 37,
     "metadata": {},
     "output_type": "execute_result"
    }
   ],
   "source": [
    "# write your code here ^_^\n",
    "def square_dict_lambda(square):\n",
    "    return {num: num ** 2 for num in square}\n",
    "testLst=[2,3,10,1,4]\n",
    "square_dict_lambda(testLst)\n"
   ]
  },
  {
   "cell_type": "code",
   "execution_count": null,
   "metadata": {},
   "outputs": [],
   "source": []
  }
 ],
 "metadata": {
  "kernelspec": {
   "display_name": "Python 3 (ipykernel)",
   "language": "python",
   "name": "python3"
  },
  "language_info": {
   "codemirror_mode": {
    "name": "ipython",
    "version": 3
   },
   "file_extension": ".py",
   "mimetype": "text/x-python",
   "name": "python",
   "nbconvert_exporter": "python",
   "pygments_lexer": "ipython3",
   "version": "3.11.9"
  }
 },
 "nbformat": 4,
 "nbformat_minor": 2
}
