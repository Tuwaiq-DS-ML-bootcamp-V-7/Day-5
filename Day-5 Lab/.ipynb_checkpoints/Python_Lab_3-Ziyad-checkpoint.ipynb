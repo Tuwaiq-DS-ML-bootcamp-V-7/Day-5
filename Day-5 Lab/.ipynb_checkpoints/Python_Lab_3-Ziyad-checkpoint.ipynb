{
 "cells": [
  {
   "cell_type": "markdown",
   "metadata": {},
   "source": [
    "# Python_Lab_3\n"
   ]
  },
  {
   "cell_type": "markdown",
   "metadata": {},
   "source": [
    "### Task 1\n",
    "- Write a function named **'create_student_records'** that takes a list of tuples. Each tuple contains a student's name and their scores in three subjects. The function should return a list of dictionaries, where each dictionary represents a student with keys: name, subject1, subject2, subject3. Use list comprehension to create the list of dictionaries."
   ]
  },
  {
   "cell_type": "code",
   "execution_count": 23,
   "metadata": {},
   "outputs": [
    {
     "data": {
      "text/plain": [
       "[{'name': 'Fahad', 'subject1': 90, 'subject2': 70, 'subject3': 100},\n",
       " {'name': 'Ahmed', 'subject1': 80, 'subject2': 100, 'subject3': 70},\n",
       " {'name': 'Ali', 'subject1': 80, 'subject2': 70, 'subject3': 90},\n",
       " {'name': 'Khaled', 'subject1': 30, 'subject2': 70, 'subject3': 90},\n",
       " {'name': 'Mohammed', 'subject1': 90, 'subject2': 90, 'subject3': 100}]"
      ]
     },
     "execution_count": 23,
     "metadata": {},
     "output_type": "execute_result"
    }
   ],
   "source": [
    "# write your code here ^_^\n",
    "def create_student_records(student_list):\n",
    "    s_list = []\n",
    "    \n",
    "    s_list = [{ \"name\": x, \"subject1\": y, \"subject2\": z, \"subject3\": w } for x, y, z, w in student_list]\n",
    "    \n",
    "    return s_list\n",
    "    \n",
    "    \n",
    "student_tuple_list = [(\"Fahad\", 90, 70, 100), (\"Ahmed\", 80, 100, 70), (\"Ali\", 80, 70, 90), (\"Khaled\", 30, 70, 90), (\"Mohammed\", 90, 90, 100)]\n",
    "\n",
    "student_records = create_student_records(student_tuple_list)\n",
    "\n",
    "student_records\n"
   ]
  },
  {
   "cell_type": "markdown",
   "metadata": {},
   "source": [
    "### Task 2\n",
    "- Write a function named **'filter_and_sort_students'** that takes the list of dictionaries from Question 1 and returns a sorted list of student names who have an average score of 80 or more across all subjects. Sort the names in alphabetical order."
   ]
  },
  {
   "cell_type": "code",
   "execution_count": 24,
   "metadata": {},
   "outputs": [
    {
     "name": "stdout",
     "output_type": "stream",
     "text": [
      "['Ahmed', 'Ali', 'Fahad', 'Mohammed']\n"
     ]
    }
   ],
   "source": [
    "# write your code here ^_^\n",
    "def filter_and_sort_students(records_list):\n",
    "    filtered_students = [x['name'] for x in records_list if (x['subject1'] + x['subject2'] + x['subject3']) / 3 >= 80]\n",
    "    filtered_students.sort()\n",
    "    \n",
    "    return filtered_students\n",
    "\n",
    "\n",
    "f_s = filter_and_sort_students(student_records)\n",
    "print(f_s)"
   ]
  },
  {
   "cell_type": "markdown",
   "metadata": {},
   "source": [
    "### Task 3\n",
    "- Write a function named **'get_product_info'** that prompts the user to enter information about a product. The function should ask for the product name, product price, and product quantity. If the user enters an invalid input (e.g., a non-numeric value for the price or quantity), the function should handle the error and prompt the user to enter the value again. Return a dictionary containing the product information."
   ]
  },
  {
   "cell_type": "code",
   "execution_count": 5,
   "metadata": {},
   "outputs": [
    {
     "name": "stdout",
     "output_type": "stream",
     "text": [
      "Enter the product name: Test Name\n",
      "Enter the product price: Test Price\n",
      "Enter a valid value please\n",
      "Enter the product price: 50\n",
      "Enter the product quantity: 5\n",
      "{'name': 'Test Name', 'price': 50, 'quantity': 5}\n"
     ]
    }
   ],
   "source": [
    "# write your code here ^_^\n",
    "\n",
    "def get_product_info():\n",
    "    name = str(input(\"Enter the product name: \"))\n",
    "    \n",
    "    while(True):\n",
    "        try:\n",
    "            price = int(input(\"Enter the product price: \"))\n",
    "            quantity = int(input(\"Enter the product quantity: \"))\n",
    "            break\n",
    "        except:\n",
    "            print(\"Enter a valid value please\")\n",
    "    \n",
    "    product_dict = {\"name\" : name, \"price\" : price, \"quantity\" : quantity}\n",
    "    \n",
    "    return product_dict\n",
    "\n",
    "\n",
    "product_dict_info = get_product_info()\n",
    "print(product_dict_info)"
   ]
  },
  {
   "cell_type": "markdown",
   "metadata": {},
   "source": [
    "### Task 4\n",
    "- Write a function named **'get_even_numbers'** that takes a list of integers and returns a list of even numbers using list comprehension."
   ]
  },
  {
   "cell_type": "code",
   "execution_count": 10,
   "metadata": {},
   "outputs": [
    {
     "name": "stdout",
     "output_type": "stream",
     "text": [
      "[2, 4, 6, 8, 10]\n"
     ]
    }
   ],
   "source": [
    "# write your code here ^_^\n",
    "\n",
    "def get_even_numbers(int_list):\n",
    "    updated_list = [i for i in int_list if (i % 2) == 0]\n",
    "    return updated_list\n",
    "    \n",
    "lst = [1, 2, 3, 4 , 6, 7, 8, 9, 10]\n",
    "even_numbers = get_even_numbers(lst)\n",
    "\n",
    "print(even_numbers)"
   ]
  },
  {
   "cell_type": "markdown",
   "metadata": {},
   "source": [
    "### Task 5\n",
    "- Write a function named **'pair_elements'** that takes two lists of equal length as parameters and returns a list of tuples, where each tuple contains corresponding elements from the two lists. Use the zip function to achieve this."
   ]
  },
  {
   "cell_type": "markdown",
   "metadata": {},
   "source": []
  },
  {
   "cell_type": "code",
   "execution_count": 15,
   "metadata": {},
   "outputs": [
    {
     "name": "stdout",
     "output_type": "stream",
     "text": [
      "((1, 2), (3, 4), (5, 6))\n"
     ]
    }
   ],
   "source": [
    "# write your code here ^_^\n",
    "def pair_elements(lst1, lst2):\n",
    "    tuple_convert = tuple(zip(lst1, lst2))\n",
    "    return tuple_convert\n",
    "    \n",
    "    \n",
    "list1 = [1, 3, 5]\n",
    "list2 = [2, 4, 6]\n",
    "\n",
    "pair_ele = pair_elements(list1, list2)\n",
    "print(pair_ele)"
   ]
  },
  {
   "cell_type": "markdown",
   "metadata": {},
   "source": [
    "### Task 6\n",
    "- Write a function named **'square_dict_lambda'** that takes a list of integers and returns a dictionary where the keys are the integers and the values are their squares. Use a lambda function within a dictionary comprehension to achieve this."
   ]
  },
  {
   "cell_type": "code",
   "execution_count": 28,
   "metadata": {},
   "outputs": [
    {
     "name": "stdout",
     "output_type": "stream",
     "text": [
      "{1: 1, 2: 4, 3: 9, 4: 16, 5: 25}\n"
     ]
    }
   ],
   "source": [
    "# write your code here ^_^\n",
    "def square_dict_lambda(int_lst):\n",
    "    sqr_lmb = {x: (lambda x: x ** 2)(x) for x in int_lst}\n",
    "    \n",
    "    return sqr_lmb\n",
    "    \n",
    "    \n",
    "int_list = [1, 2, 3, 4, 5]\n",
    "\n",
    "square_dict = square_dict_lambda(int_list)\n",
    "print(square_dict)\n",
    "    \n"
   ]
  },
  {
   "cell_type": "code",
   "execution_count": null,
   "metadata": {},
   "outputs": [],
   "source": []
  }
 ],
 "metadata": {
  "kernelspec": {
   "display_name": "Python 3 (ipykernel)",
   "language": "python",
   "name": "python3"
  },
  "language_info": {
   "codemirror_mode": {
    "name": "ipython",
    "version": 3
   },
   "file_extension": ".py",
   "mimetype": "text/x-python",
   "name": "python",
   "nbconvert_exporter": "python",
   "pygments_lexer": "ipython3",
   "version": "3.9.12"
  }
 },
 "nbformat": 4,
 "nbformat_minor": 2
}
