{
 "cells": [
  {
   "cell_type": "markdown",
   "metadata": {},
   "source": [
    "# Python_Lab_3\n"
   ]
  },
  {
   "cell_type": "markdown",
   "metadata": {},
   "source": [
    "### Task 1\n",
    "- Write a function named **'create_student_records'** that takes a list of tuples. Each tuple contains a student's name and their scores in three subjects. The function should return a list of dictionaries, where each dictionary represents a student with keys: name, subject1, subject2, subject3. Use list comprehension to create the list of dictionaries."
   ]
  },
  {
   "cell_type": "code",
   "execution_count": 1,
   "metadata": {},
   "outputs": [
    {
     "name": "stdout",
     "output_type": "stream",
     "text": [
      "[{'name': 'a', 'subject1': 85, 'subject2': 90, 'subject3': 88}, {'name': 'b', 'subject1': 78, 'subject2': 82, 'subject3': 80}, {'name': 'c', 'subject1': 92, 'subject2': 88, 'subject3': 95}, {'name': 'd', 'subject1': 70, 'subject2': 75, 'subject3': 72}, {'name': 'e', 'subject1': 87, 'subject2': 84, 'subject3': 89}]\n"
     ]
    }
   ],
   "source": [
    "tuples = [()\n",
    "]\n",
    "def create_student_records(tuples):\n",
    "    student_records = [\n",
    "        {\"name\": student[0], \"subject1\": student[1], \"subject2\": student[2], \"subject3\": student[3]}\n",
    "        for student in tuples\n",
    "    ]\n",
    "    \n",
    "    return student_records\n",
    "\n",
    "tuples = [\n",
    "    (\"a\", 85, 90, 88),\n",
    "    (\"b\", 78, 82, 80),\n",
    "    (\"c\", 92, 88, 95),\n",
    "    (\"d\", 70, 75, 72),\n",
    "    (\"e\", 87, 84, 89)\n",
    "]\n",
    "\n",
    "student_records = create_student_records(tuples)\n",
    "\n",
    "print(student_records)"
   ]
  },
  {
   "cell_type": "markdown",
   "metadata": {},
   "source": [
    "### Task 2\n",
    "- Write a function named **'filter_and_sort_students'** that takes the list of dictionaries from Question 1 and returns a sorted list of student names who have an average score of 80 or more across all subjects. Sort the names in alphabetical order."
   ]
  },
  {
   "cell_type": "code",
   "execution_count": 2,
   "metadata": {},
   "outputs": [
    {
     "name": "stdout",
     "output_type": "stream",
     "text": [
      "a\n",
      "b\n",
      "c\n",
      "e\n"
     ]
    }
   ],
   "source": [
    "def filter_and_sort_students(student_records):\n",
    "    filtered_students = [student[\"name\"] for student in student_records if (student[\"subject1\"] + student[\"subject2\"] + student[\"subject3\"])\n",
    "                         / 3 >= 80]\n",
    "    \n",
    "    sorted_students = sorted(filtered_students)\n",
    "    \n",
    "    return sorted_students\n",
    "\n",
    "\n",
    "sorted_student_names = filter_and_sort_students(student_records)\n",
    "\n",
    "for student_name in sorted_student_names:\n",
    "    print(student_name)"
   ]
  },
  {
   "cell_type": "markdown",
   "metadata": {},
   "source": [
    "### Task 3\n",
    "- Write a function named **'get_product_info'** that prompts the user to enter information about a product. The function should ask for the product name, product price, and product quantity. If the user enters an invalid input (e.g., a non-numeric value for the price or quantity), the function should handle the error and prompt the user to enter the value again. Return a dictionary containing the product information."
   ]
  },
  {
   "cell_type": "code",
   "execution_count": 3,
   "metadata": {},
   "outputs": [
    {
     "name": "stdout",
     "output_type": "stream",
     "text": [
      "product namea\n",
      "product prices\n",
      "product price1\n",
      "product quantityd\n",
      "product quantity4\n"
     ]
    }
   ],
   "source": [
    "def get_product_info():\n",
    "    i=True\n",
    "    \n",
    "    pn=input(\"product name\")\n",
    "    \n",
    "    while i:\n",
    "    \n",
    "        pp=input(\"product price\")\n",
    "    \n",
    "        if pp.isdigit():\n",
    "            i=False\n",
    "    i=True\n",
    "    while i:\n",
    "        pq=input(\"product quantity\")\n",
    "    \n",
    "        if pq.isdigit():\n",
    "            i=False\n",
    "        \n",
    "get_product_info()  "
   ]
  },
  {
   "cell_type": "markdown",
   "metadata": {},
   "source": [
    "### Task 4\n",
    "- Write a function named **'get_even_numbers'** that takes a list of integers and returns a list of even numbers using list comprehension."
   ]
  },
  {
   "cell_type": "code",
   "execution_count": 4,
   "metadata": {},
   "outputs": [
    {
     "data": {
      "text/plain": [
       "[2, 4, 6, 8, 10]"
      ]
     },
     "execution_count": 4,
     "metadata": {},
     "output_type": "execute_result"
    }
   ],
   "source": [
    "def get_even_numbers(num):\n",
    "    return [n for n in num if n%2==0]\n",
    "num = [1, 2, 3, 4, 5, 6, 7, 8, 9, 10]\n",
    "get_even_numbers(num)"
   ]
  },
  {
   "cell_type": "markdown",
   "metadata": {},
   "source": [
    "### Task 5\n",
    "- Write a function named **'pair_elements'** that takes two lists of equal length as parameters and returns a list of tuples, where each tuple contains corresponding elements from the two lists. Use the zip function to achieve this."
   ]
  },
  {
   "cell_type": "markdown",
   "metadata": {},
   "source": []
  },
  {
   "cell_type": "code",
   "execution_count": 5,
   "metadata": {},
   "outputs": [
    {
     "data": {
      "text/plain": [
       "[(1, 1), (2, 2), (3, 3)]"
      ]
     },
     "execution_count": 5,
     "metadata": {},
     "output_type": "execute_result"
    }
   ],
   "source": [
    "def pair_elements(list1,list2):\n",
    "    if len(list1)==len(list2):\n",
    "        listz=list(zip(list1,list2))\n",
    "        return listz\n",
    "    else:\n",
    "        print(\"the two list should have same length\")\n",
    "n=[1,2,3]\n",
    "m=[1,2,3]\n",
    "\n",
    "pair_elements(n,m)\n",
    "        "
   ]
  },
  {
   "cell_type": "markdown",
   "metadata": {},
   "source": [
    "### Task 6\n",
    "- Write a function named **'square_dict_lambda'** that takes a list of integers and returns a dictionary where the keys are the integers and the values are their squares. Use a lambda function within a dictionary comprehension to achieve this."
   ]
  },
  {
   "cell_type": "code",
   "execution_count": 6,
   "metadata": {},
   "outputs": [
    {
     "data": {
      "text/plain": [
       "{1: 1, 2: 4, 3: 9, 4: 16, 5: 25, 6: 36, 7: 49, 8: 64, 9: 81}"
      ]
     },
     "execution_count": 6,
     "metadata": {},
     "output_type": "execute_result"
    }
   ],
   "source": [
    "def square_dict_lambda(list):\n",
    "    dic={n: (lambda s:s**2)(n) for n in list}\n",
    "    return dic\n",
    "num=[1,2,3,4,5,6,7,8,9]\n",
    "square_dict_lambda(num)"
   ]
  },
  {
   "cell_type": "code",
   "execution_count": null,
   "metadata": {},
   "outputs": [],
   "source": []
  }
 ],
 "metadata": {
  "kernelspec": {
   "display_name": "Python 3 (ipykernel)",
   "language": "python",
   "name": "python3"
  },
  "language_info": {
   "codemirror_mode": {
    "name": "ipython",
    "version": 3
   },
   "file_extension": ".py",
   "mimetype": "text/x-python",
   "name": "python",
   "nbconvert_exporter": "python",
   "pygments_lexer": "ipython3",
   "version": "3.11.4"
  }
 },
 "nbformat": 4,
 "nbformat_minor": 2
}
