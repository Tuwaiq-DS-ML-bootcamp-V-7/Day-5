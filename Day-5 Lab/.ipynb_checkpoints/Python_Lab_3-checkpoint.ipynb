{
 "cells": [
  {
   "cell_type": "markdown",
   "metadata": {},
   "source": [
    "# Python_Lab_3\n"
   ]
  },
  {
   "cell_type": "markdown",
   "metadata": {},
   "source": [
    "### Task 1\n",
    "- Write a function named **'create_student_records'** that takes a list of tuples. Each tuple contains a student's name and their scores in three subjects. The function should return a list of dictionaries, where each dictionary represents a student with keys: name, subject1, subject2, subject3. Use list comprehension to create the list of dictionaries."
   ]
  },
  {
   "cell_type": "code",
   "execution_count": 13,
   "metadata": {},
   "outputs": [
    {
     "name": "stdout",
     "output_type": "stream",
     "text": [
      "[{'name': 'Samer', 'subject1': 90, 'subject2': 79, 'subject3': 83}, {'name': 'Mohammed', 'subject1': 100, 'subject2': 99, 'subject3': 89}, {'name': 'Asem', 'subject1': 66, 'subject2': 76, 'subject3': 81}]\n"
     ]
    }
   ],
   "source": [
    "lst_of_students = [(\"Samer\", 90, 79, 83), (\"Mohammed\", 100, 99, 89), (\"Asem\", 66, 76, 81)]\n",
    "def create_student_records(lst):\n",
    "    return [{\"name\" : tpl[0], \"subject1\" : tpl[1], \"subject2\" : tpl[2], \"subject3\" : tpl[3]} for tpl in lst]\n",
    "    \n",
    "lst_of_students = create_student_records(lst_of_students)\n",
    "print(lst_of_students)"
   ]
  },
  {
   "cell_type": "markdown",
   "metadata": {},
   "source": [
    "### Task 2\n",
    "- Write a function named **'filter_and_sort_students'** that takes the list of dictionaries from Question 1 and returns a sorted list of student names who have an average score of 80 or more across all subjects. Sort the names in alphabetical order."
   ]
  },
  {
   "cell_type": "code",
   "execution_count": 14,
   "metadata": {},
   "outputs": [
    {
     "name": "stdout",
     "output_type": "stream",
     "text": [
      "['Mohammed', 'Samer']\n"
     ]
    }
   ],
   "source": [
    "def filter_and_sort_students():\n",
    "    avg_lst = list()\n",
    "    for i in lst_of_students:\n",
    "        average = 0.0\n",
    "        name = i[\"name\"]\n",
    "        for k, v in i.items():\n",
    "            if type(v) == type(int()):\n",
    "                average = average + v\n",
    "                if k == \"subject3\" and average/3 >= 80:\n",
    "                    avg_lst.append(name)\n",
    "    avg_lst.sort()\n",
    "    return avg_lst\n",
    "sorted_lst = filter_and_sort_students()\n",
    "print(sorted_lst)"
   ]
  },
  {
   "cell_type": "markdown",
   "metadata": {},
   "source": [
    "### Task 3\n",
    "- Write a function named **'get_product_info'** that prompts the user to enter information about a product. The function should ask for the product name, product price, and product quantity. If the user enters an invalid input (e.g., a non-numeric value for the price or quantity), the function should handle the error and prompt the user to enter the value again. Return a dictionary containing the product information."
   ]
  },
  {
   "cell_type": "code",
   "execution_count": 16,
   "metadata": {},
   "outputs": [
    {
     "name": "stdout",
     "output_type": "stream",
     "text": [
      "Enter the product name:\n",
      "bottle of water\n",
      "Enter the product price:\n",
      "1\n",
      "Enter the product quantity:\n",
      "12\n",
      "{'Name': 'bottle of water', 'Price': 1, 'Quantity': 12}\n"
     ]
    }
   ],
   "source": [
    "def get_product_info():\n",
    "    print(\"Enter the product name:\")\n",
    "    name = input()\n",
    "    try:\n",
    "        print(\"Enter the product price:\")\n",
    "        price = int(input())\n",
    "        print(\"Enter the product quantity:\")\n",
    "        quantity = int(input())\n",
    "    except:\n",
    "        print(\"wrong input, enter numbers only\")\n",
    "    return {\"Name\": name, \"Price\": price, \"Quantity\": quantity}\n",
    "print(get_product_info())   "
   ]
  },
  {
   "cell_type": "markdown",
   "metadata": {},
   "source": [
    "### Task 4\n",
    "- Write a function named **'get_even_numbers'** that takes a list of integers and returns a list of even numbers using list comprehension."
   ]
  },
  {
   "cell_type": "code",
   "execution_count": 17,
   "metadata": {},
   "outputs": [
    {
     "name": "stdout",
     "output_type": "stream",
     "text": [
      "[2, 4, 6, 8]\n"
     ]
    }
   ],
   "source": [
    "int_lst = [1, 2, 3, 4, 5, 6, 7, 8, 9]\n",
    "def get_even_numbers():\n",
    "    even_lst = [i for i in int_lst if i % 2 == 0]\n",
    "    return even_lst\n",
    "print(get_even_numbers())"
   ]
  },
  {
   "cell_type": "markdown",
   "metadata": {},
   "source": [
    "### Task 5\n",
    "- Write a function named **'pair_elements'** that takes two lists of equal length as parameters and returns a list of tuples, where each tuple contains corresponding elements from the two lists. Use the zip function to achieve this."
   ]
  },
  {
   "cell_type": "markdown",
   "metadata": {},
   "source": []
  },
  {
   "cell_type": "code",
   "execution_count": 18,
   "metadata": {},
   "outputs": [
    {
     "name": "stdout",
     "output_type": "stream",
     "text": [
      "[(1, 6), (2, 5), (3, 4), (4, 3), (5, 2), (6, 1)]\n"
     ]
    }
   ],
   "source": [
    "pair1 = [1, 2, 3, 4, 5, 6]\n",
    "pair2 = [6, 5, 4, 3, 2, 1]\n",
    "\n",
    "def pair_elements(pair1, pair2):\n",
    "    return list(zip(pair1, pair2))\n",
    "\n",
    "print(pair_elements(pair1, pair2))"
   ]
  },
  {
   "cell_type": "markdown",
   "metadata": {},
   "source": [
    "### Task 6\n",
    "- Write a function named **'square_dict_lambda'** that takes a list of integers and returns a dictionary where the keys are the integers and the values are their squares. Use a lambda function within a dictionary comprehension to achieve this."
   ]
  },
  {
   "cell_type": "code",
   "execution_count": 20,
   "metadata": {},
   "outputs": [
    {
     "name": "stdout",
     "output_type": "stream",
     "text": [
      "{1: 1, 2: 4, 3: 9, 4: 16, 5: 25, 6: 36, 7: 49, 8: 64, 9: 81}\n"
     ]
    }
   ],
   "source": [
    "def square_dict_lambda(int_lst):\n",
    "    return {k: (lambda x: k**2)(k) for k in int_lst}\n",
    "print(square_dict_lambda(int_lst))"
   ]
  }
 ],
 "metadata": {
  "kernelspec": {
   "display_name": "Python 3 (ipykernel)",
   "language": "python",
   "name": "python3"
  },
  "language_info": {
   "codemirror_mode": {
    "name": "ipython",
    "version": 3
   },
   "file_extension": ".py",
   "mimetype": "text/x-python",
   "name": "python",
   "nbconvert_exporter": "python",
   "pygments_lexer": "ipython3",
   "version": "3.11.5"
  }
 },
 "nbformat": 4,
 "nbformat_minor": 2
}
