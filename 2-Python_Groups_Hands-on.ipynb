{
 "cells": [
  {
   "cell_type": "markdown",
   "metadata": {
    "id": "kZXiW0-J0-2x"
   },
   "source": [
    "# Python_Groups_Hands-on\n"
   ]
  },
  {
   "cell_type": "markdown",
   "metadata": {
    "id": "I05A6_S80-2y"
   },
   "source": [
    "## Project: Library Management System\n",
    "### Description:\n",
    "- Develop a basic Library Management System (LMS) that allows users to manage book records, including adding, updating, deleting, and displaying book information. The system should also provide basic statistical analysis.\n",
    "\n",
    "### System requirements:\n",
    "\n",
    "#### Data Structure Design:\n",
    "\n",
    "  - Define data structures using lists, tuples, dictionaries, and sets to store book information (e.g., book ID, title, author, year, genres).\n",
    "\n",
    "#### Basic Operations:\n",
    "\n",
    "- Implement functions to add, update, delete, and display book records.\n",
    "- Ensure proper type conversion and validation of inputs.\n",
    "\n",
    "#### Statistical Analysis:\n",
    "\n",
    "- Write functions to calculate and display the total number of books, the average publication year, and the most common genre.\n",
    "- Use list comprehensions and built-in functions (sort, len, zip, range) for calculations.\n",
    "\n",
    "#### Advanced Features:\n",
    "\n",
    "- Implement search functionality to find books by title or author using lambda functions.\n",
    "- Provide sorting options for book records based on different criteria (e.g., title, year).\n",
    "\n",
    "\n",
    "#### Exception Handling:\n",
    "\n",
    "- Handle potential errors (e.g., invalid input) using try-except blocks."
   ]
  },
  {
   "cell_type": "markdown",
   "metadata": {
    "id": "rXuH9y0_D76o"
   },
   "source": [
    "#### Q1: Using the following table, create a function to add these books to your library:\n",
    "\n",
    "\n",
    "\n",
    "| Book ID | Title                            | Author               | Year | Genres                              |\n",
    "|---------|----------------------------------|----------------------|------|-------------------------------------|\n",
    "| 1       | Harry Potter and the Sorcerer's Stone | J.K. Rowling         | 1997 | Fantasy, Young Adult                |\n",
    "| 2       | To Kill a Mockingbird             | Harper Lee           | 1960 | Fiction, Classics                   |\n",
    "| 3       | The Great Gatsby                  | F. Scott Fitzgerald  | 1925 | Fiction, Classics                   |\n",
    "| 4       | 1984                              | George Orwell        | 1949 | Fiction, Dystopian                  |\n",
    "| 5       | The Catcher in the Rye            | J.D. Salinger        | 1951 | Fiction, Classics                   |\n",
    "| 6       | Pride and Prejudice               | Jane Austen          | 1813 | Fiction, Romance, Classics          |\n",
    "| 7       | The Hobbit                        | J.R.R. Tolkien       | 1937 | Fantasy, Adventure                  |\n",
    "| 8       | The Hunger Games                  | Suzanne Collins      | 2008 | Science Fiction, Dystopian, Young Adult |\n",
    "| 9       | The Da Vinci Code                 | Dan Brown            | 2003 | Mystery, Thriller                   |\n",
    "| 10      | The Chronicles of Narnia          | C.S. Lewis           | 1950 | Fantasy, Children's Literature      |\n",
    "| 11      | Gone with the Wind                | Margaret Mitchell    | 1936 | Historical Fiction, Romance         |\n",
    "| 12      | Sapiens: A Brief History of Humankind | Yuval Noah Harari   | 2011 | Nonfiction, History, Science        |\n",
    "| 13      | The Road                          | Cormac McCarthy      | 2006 | Fiction, Post-Apocalyptic           |\n",
    "| 14      | The Girl with the Dragon Tattoo   | Stieg Larsson        | 2005 | Mystery, Thriller                   |\n",
    "| 15      | The Alchemist                     | Paulo Coelho         | 1988 | Fiction, Inspirational              |\n"
   ]
  },
  {
   "cell_type": "code",
   "execution_count": 2,
   "metadata": {
    "id": "BzV_B_g20-2z"
   },
   "outputs": [
    {
     "name": "stdout",
     "output_type": "stream",
     "text": [
      "Add Book ID:\n",
      "1\n",
      "Add Title:\n",
      "Harry Potter and the Sorcerer's Stone\n",
      "Add Author:\n",
      "J.K. Rowling\n",
      "Add Year:\n",
      "1997\n",
      "Add Genres:\n",
      "Fantasy, Young Adult\n",
      "If you want to add more books enter 1, if not enter 2:\n",
      "1\n",
      "Add Book ID:\n",
      "2\n",
      "Add Title:\n",
      "To Kill a Mockingbird\n",
      "Add Author:\n",
      "Harper Lee\n",
      "Add Year:\n",
      "1960\n",
      "Add Genres:\n",
      "Fiction, Classics\n",
      "If you want to add more books enter 1, if not enter 2:\n",
      "2\n",
      "{'1': {'Title': \"Harry Potter and the Sorcerer's Stone\", 'Author': 'J.K. Rowling', 'Year': 1997, 'Genres': 'Fantasy, Young Adult'}, '2': {'Title': 'To Kill a Mockingbird', 'Author': 'Harper Lee', 'Year': 1960, 'Genres': 'Fiction, Classics'}}\n"
     ]
    }
   ],
   "source": [
    "books = {}\n",
    "\n",
    "def add_books():\n",
    "    try:\n",
    "        while True:\n",
    "            print(\"Add Book ID:\")\n",
    "            id = input()\n",
    "            print(\"Add Title:\")\n",
    "            Title = input()\n",
    "            print(\"Add Author:\")\n",
    "            Author = input()\n",
    "            print(\"Add Year:\")\n",
    "            Year = int(input())\n",
    "            print(\"Add Genres:\")\n",
    "            Genres = input()\n",
    "            books[id] = {\"Title\": Title, \"Author\": Author, \"Year\" : Year, \"Genres\": Genres}\n",
    "            \n",
    "            print(\"If you want to add more books enter 1, if not enter 2:\")\n",
    "            flag = input()\n",
    "            if flag == \"2\":\n",
    "                break\n",
    "    except:\n",
    "        print(\"error occured\")\n",
    "add_books()\n",
    "print(books)"
   ]
  },
  {
   "cell_type": "markdown",
   "metadata": {
    "id": "kR5bvgOsF3oJ"
   },
   "source": [
    "#### Q2: Create a function that updates books exsisted in your library and test it.\n",
    "- **Note**: If the user entered wrong book ID it should print \"Book with ID 'num' does not exist."
   ]
  },
  {
   "cell_type": "code",
   "execution_count": null,
   "metadata": {
    "id": "U60cFkbUUYmj"
   },
   "outputs": [],
   "source": [
    "# write your code here ^_^"
   ]
  },
  {
   "cell_type": "markdown",
   "metadata": {
    "id": "ME3j_m-eLhyH"
   },
   "source": [
    "#### Q3: Create a function to delete books from your library and test it."
   ]
  },
  {
   "cell_type": "code",
   "execution_count": 36,
   "metadata": {
    "id": "JlGIx-gJUadK"
   },
   "outputs": [
    {
     "name": "stdout",
     "output_type": "stream",
     "text": [
      "{'1': {'Title': 'momo', 'Author': 'w', 'Year': 22, 'Genres': 'w'}, 'qw': {'Title': 'ww', 'Author': 'ww', 'Year': 3, 'Genres': 'sww'}, '5': {'Title': 'f', 'Author': 'g', 'Year': 4, 'Genres': 'e'}}\n"
     ]
    }
   ],
   "source": [
    "def delete_books(books):\n",
    "    print(\"Add the Book ID that you want to delete:\")\n",
    "    id = input()\n",
    "\n",
    "    books.pop(id)\n",
    "delete_books(books)\n",
    "print(books)\n"
   ]
  },
  {
   "cell_type": "markdown",
   "metadata": {
    "id": "MIamnChwNgFr"
   },
   "source": [
    "#### Q4: Create a function that displays books information from your library and test it."
   ]
  },
  {
   "cell_type": "code",
   "execution_count": 38,
   "metadata": {
    "id": "xFNIK3YvUbz5"
   },
   "outputs": [
    {
     "name": "stdout",
     "output_type": "stream",
     "text": [
      "{'1': {'Title': 'momo', 'Author': 'w', 'Year': 22, 'Genres': 'w'}, 'qw': {'Title': 'ww', 'Author': 'ww', 'Year': 3, 'Genres': 'sww'}, '5': {'Title': 'f', 'Author': 'g', 'Year': 4, 'Genres': 'e'}}\n"
     ]
    }
   ],
   "source": [
    "def display_books(books):\n",
    "    print(books)\n",
    "display_books(books)"
   ]
  },
  {
   "cell_type": "markdown",
   "metadata": {
    "id": "OvfdKdBqNt22"
   },
   "source": [
    "#### Q5: Create functions to do the following: calculates and display the total number of books, the average publication year, and the most common genre. and test it."
   ]
  },
  {
   "cell_type": "code",
   "execution_count": 29,
   "metadata": {
    "id": "mWg5eHIWUcsU"
   },
   "outputs": [
    {
     "name": "stdout",
     "output_type": "stream",
     "text": [
      "The total number of books is: 2\n",
      "The Average of Years is: 2.5\n"
     ]
    }
   ],
   "source": [
    "def library_info(books):\n",
    "    total = len(books)\n",
    "    print(\"The total number of books is: {}\".format(total))\n",
    "    average = float(0)\n",
    "    for k, v in books.items():\n",
    "        average = (average + v[\"Year\"])\n",
    "    average = average / total\n",
    "    print(\"The Average of Years is: {}\".format(average))\n",
    "    \n",
    "    for k, v in books.items():\n",
    "        average = (average + v[\"Year\"])\n",
    "\n",
    "    \n",
    "library_info(books)"
   ]
  },
  {
   "cell_type": "markdown",
   "metadata": {
    "id": "IuVLtf7dQaUW"
   },
   "source": [
    "#### Q6: Create 2 functions to search for books by the title and the author from your library and test it."
   ]
  },
  {
   "cell_type": "code",
   "execution_count": 3,
   "metadata": {
    "id": "7LnwRJLCUe3p"
   },
   "outputs": [
    {
     "name": "stdout",
     "output_type": "stream",
     "text": [
      "Enter the title\n",
      "To Kill a Mockingbird\n",
      "{'Title': 'To Kill a Mockingbird', 'Author': 'Harper Lee', 'Year': 1960, 'Genres': 'Fiction, Classics'}\n",
      "Enter the author\n",
      "J.K. Rowling\n",
      "{'Title': \"Harry Potter and the Sorcerer's Stone\", 'Author': 'J.K. Rowling', 'Year': 1997, 'Genres': 'Fantasy, Young Adult'}\n"
     ]
    }
   ],
   "source": [
    "def by_title(books):\n",
    "    print(\"Enter the title\")\n",
    "    title = input()\n",
    "    for k, v in books.items():\n",
    "        if v[\"Title\"] == title:\n",
    "            print(v)\n",
    "            \n",
    "def by_author(books):\n",
    "    print(\"Enter the author\")\n",
    "    author = input()\n",
    "    for k, v in books.items():\n",
    "        if v[\"Author\"] == author:\n",
    "            print(v)\n",
    "            \n",
    "by_title(books)\n",
    "by_author(books)\n"
   ]
  },
  {
   "cell_type": "markdown",
   "metadata": {
    "id": "fAu2ozKBQzJu"
   },
   "source": [
    "#### Q7: Create 2 functions to sort the books by the title and the year from your library and test it."
   ]
  },
  {
   "cell_type": "code",
   "execution_count": 46,
   "metadata": {
    "id": "X4PyuHTMUgHl"
   },
   "outputs": [
    {
     "name": "stdout",
     "output_type": "stream",
     "text": [
      "{'1': {'Title': 'momo', 'Author': 'w', 'Year': 22, 'Genres': 'w'}, 'qw': {'Title': 'ww', 'Author': 'ww', 'Year': 3, 'Genres': 'sww'}, '5': {'Title': 'f', 'Author': 'g', 'Year': 4, 'Genres': 'e'}}\n"
     ]
    }
   ],
   "source": [
    "from collections import OrderedDict\n",
    "from operator import getitem\n",
    "\n",
    "def sort_title(books):\n",
    "    books = OrderedDict(sorted(books.items(), key = lambda x: getitem(x[1], \"Title\")))\n",
    "print(books)"
   ]
  },
  {
   "cell_type": "markdown",
   "metadata": {
    "id": "KiaFO8rdiv4u"
   },
   "source": [
    "#### Q8: Create a function to bulk update genres of books using list comprehension. and test it."
   ]
  },
  {
   "cell_type": "code",
   "execution_count": null,
   "metadata": {
    "id": "AbvXyE96UhVt"
   },
   "outputs": [],
   "source": []
  },
  {
   "cell_type": "markdown",
   "metadata": {
    "id": "ZWkmOUNgi6V_"
   },
   "source": [
    "#### Q9: Implement a function to generate a report summarizing the library's statistics, including the total number of books, the number of books by each author, the number of books in each genre, and the oldest and newest books. and test it."
   ]
  },
  {
   "cell_type": "code",
   "execution_count": null,
   "metadata": {
    "id": "Okjlb9pTUloe"
   },
   "outputs": [],
   "source": [
    "# write your code here ^_^"
   ]
  }
 ],
 "metadata": {
  "colab": {
   "provenance": []
  },
  "kernelspec": {
   "display_name": "Python 3 (ipykernel)",
   "language": "python",
   "name": "python3"
  },
  "language_info": {
   "codemirror_mode": {
    "name": "ipython",
    "version": 3
   },
   "file_extension": ".py",
   "mimetype": "text/x-python",
   "name": "python",
   "nbconvert_exporter": "python",
   "pygments_lexer": "ipython3",
   "version": "3.11.5"
  }
 },
 "nbformat": 4,
 "nbformat_minor": 1
}
