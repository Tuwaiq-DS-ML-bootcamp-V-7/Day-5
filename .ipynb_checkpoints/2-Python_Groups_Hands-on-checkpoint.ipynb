{
 "cells": [
  {
   "cell_type": "markdown",
   "metadata": {
    "id": "kZXiW0-J0-2x"
   },
   "source": [
    "# Python_Groups_Hands-on\n"
   ]
  },
  {
   "cell_type": "markdown",
   "metadata": {
    "id": "I05A6_S80-2y"
   },
   "source": [
    "## Project: Library Management System\n",
    "### Description:\n",
    "- Develop a basic Library Management System (LMS) that allows users to manage book records, including adding, updating, deleting, and displaying book information. The system should also provide basic statistical analysis.\n",
    "\n",
    "### System requirements:\n",
    "\n",
    "#### Data Structure Design:\n",
    "\n",
    "  - Define data structures using lists, tuples, dictionaries, and sets to store book information (e.g., book ID, title, author, year, genres).\n",
    "\n",
    "#### Basic Operations:\n",
    "\n",
    "- Implement functions to add, update, delete, and display book records.\n",
    "- Ensure proper type conversion and validation of inputs.\n",
    "\n",
    "#### Statistical Analysis:\n",
    "\n",
    "- Write functions to calculate and display the total number of books, the average publication year, and the most common genre.\n",
    "- Use list comprehensions and built-in functions (sort, len, zip, range) for calculations.\n",
    "\n",
    "#### Advanced Features:\n",
    "\n",
    "- Implement search functionality to find books by title or author using lambda functions.\n",
    "- Provide sorting options for book records based on different criteria (e.g., title, year).\n",
    "\n",
    "\n",
    "#### Exception Handling:\n",
    "\n",
    "- Handle potential errors (e.g., invalid input) using try-except blocks."
   ]
  },
  {
   "cell_type": "markdown",
   "metadata": {
    "id": "rXuH9y0_D76o"
   },
   "source": [
    "#### Q1: Using the following table, create a function to add these books to your library:\n",
    "\n",
    "\n",
    "\n",
    "| Book ID | Title                            | Author               | Year | Genres                              |\n",
    "|---------|----------------------------------|----------------------|------|-------------------------------------|\n",
    "| 1       | Harry Potter and the Sorcerer's Stone | J.K. Rowling         | 1997 | Fantasy, Young Adult                |\n",
    "| 2       | To Kill a Mockingbird             | Harper Lee           | 1960 | Fiction, Classics                   |\n",
    "| 3       | The Great Gatsby                  | F. Scott Fitzgerald  | 1925 | Fiction, Classics                   |\n",
    "| 4       | 1984                              | George Orwell        | 1949 | Fiction, Dystopian                  |\n",
    "| 5       | The Catcher in the Rye            | J.D. Salinger        | 1951 | Fiction, Classics                   |\n",
    "| 6       | Pride and Prejudice               | Jane Austen          | 1813 | Fiction, Romance, Classics          |\n",
    "| 7       | The Hobbit                        | J.R.R. Tolkien       | 1937 | Fantasy, Adventure                  |\n",
    "| 8       | The Hunger Games                  | Suzanne Collins      | 2008 | Science Fiction, Dystopian, Young Adult |\n",
    "| 9       | The Da Vinci Code                 | Dan Brown            | 2003 | Mystery, Thriller                   |\n",
    "| 10      | The Chronicles of Narnia          | C.S. Lewis           | 1950 | Fantasy, Children's Literature      |\n",
    "| 11      | Gone with the Wind                | Margaret Mitchell    | 1936 | Historical Fiction, Romance         |\n",
    "| 12      | Sapiens: A Brief History of Humankind | Yuval Noah Harari   | 2011 | Nonfiction, History, Science        |\n",
    "| 13      | The Road                          | Cormac McCarthy      | 2006 | Fiction, Post-Apocalyptic           |\n",
    "| 14      | The Girl with the Dragon Tattoo   | Stieg Larsson        | 2005 | Mystery, Thriller                   |\n",
    "| 15      | The Alchemist                     | Paulo Coelho         | 1988 | Fiction, Inspirational              |\n"
   ]
  },
  {
   "cell_type": "code",
   "execution_count": 52,
   "metadata": {
    "id": "BzV_B_g20-2z"
   },
   "outputs": [
    {
     "name": "stdout",
     "output_type": "stream",
     "text": [
      "Add Book ID:\n",
      "16\n",
      "Add Title:\n",
      "a\n",
      "Add Author:\n",
      "a\n",
      "Add Year:\n",
      "a\n",
      "Add Genres:\n",
      "a\n",
      "If you want to add more books enter 1, if not enter 2:\n",
      "1\n",
      "{1: {'Title': \"Harry Potter and the Sorcerer's Stone\", 'Author': 'J.K. Rowling', 'Year': 1997, 'Genres': ['Fantasy', 'Young Adult']}, 2: {'Title': 'To Kill a Mockingbird', 'Author': 'Harper Lee', 'Year': 1960, 'Genres': ['Fiction', 'Classics']}, 3: {'Title': 'The Great Gatsby', 'Author': 'F. Scott Fitzgerald', 'Year': 1925, 'Genres': ['Fiction', 'Classics']}, 4: {'Title': '1984', 'Author': 'George Orwell', 'Year': 1949, 'Genres': ['Fiction', 'Dystopian']}, 5: {'Title': 'The Catcher in the Rye', 'Author': 'J.D. Salinger', 'Year': 1951, 'Genres': ['Fiction', 'Classics']}, 6: {'Title': 'Pride and Prejudice', 'Author': 'Jane Austen', 'Year': 1813, 'Genres': ['Fiction', 'Romance', 'Classics']}, 7: {'Title': 'The Hobbit', 'Author': 'J.R.R. Tolkien', 'Year': 1937, 'Genres': ['Fantasy', 'Adventure']}, 8: {'Title': 'The Hunger Games', 'Author': 'Suzanne Collins', 'Year': 2008, 'Genres': ['Science Fiction', 'Dystopian', 'Young Adult']}, 9: {'Title': 'The Da Vinci Code', 'Author': 'Dan Brown', 'Year': 2003, 'Genres': ['Mystery', 'Thriller']}, 10: {'Title': 'The Chronicles of Narnia', 'Author': 'C.S. Lewis', 'Year': 1950, 'Genres': ['Fantasy', \"Children's Literature\"]}, 11: {'Title': 'Gone with the Wind', 'Author': 'Margaret Mitchell', 'Year': 1936, 'Genres': ['Historical Fiction', 'Romance']}, 12: {'Title': 'Sapiens: A Brief History of Humankind', 'Author': 'Yuval Noah Harari', 'Year': 2011, 'Genres': ['Nonfiction', 'History', 'Science']}, 13: {'Title': 'The Road', 'Author': 'Cormac McCarthy', 'Year': 2006, 'Genres': ['Fiction', 'Post-Apocalyptic']}, 14: {'Title': 'The Girl with the Dragon Tattoo', 'Author': 'Stieg Larsson', 'Year': 2005, 'Genres': ['Mystery', 'Thriller']}, 15: {'Title': 'The Alchemist', 'Author': 'Paulo Coelho', 'Year': 1988, 'Genres': ['Fiction', 'Inspirational']}, 16: {'Title': 'a', 'Author': 'a', 'Year': 'a', 'Genres': 'a'}}\n"
     ]
    }
   ],
   "source": [
    "books = {}\n",
    "\n",
    "def add_books():\n",
    "    try:\n",
    "        while True:\n",
    "            print(\"Add Book ID:\")\n",
    "            id = input()\n",
    "            print(\"Add Title:\")\n",
    "            Title = input()\n",
    "            print(\"Add Author:\")\n",
    "            Author = input()\n",
    "            print(\"Add Year:\")\n",
    "            Year = input()\n",
    "            print(\"Add Genres:\")\n",
    "            Genres = input()\n",
    "            books[int(id)] = {\"Title\": Title, \"Author\": Author, \"Year\" : Year, \"Genres\": Genres}\n",
    "            \n",
    "            print(\"If you want to add more books enter 1, if not enter 2:\")\n",
    "            flag = input()\n",
    "            if flag == \"1\":\n",
    "                break\n",
    "    except:\n",
    "        print(\"error occured\")     \n",
    "          \n",
    "books = {\n",
    "    1: {\"Title\": \"Harry Potter and the Sorcerer's Stone\", \"Author\": \"J.K. Rowling\", \"Year\": 1997, \"Genres\": [\"Fantasy\", \"Young Adult\"]},\n",
    "    2: {\"Title\": \"To Kill a Mockingbird\", \"Author\": \"Harper Lee\", \"Year\": 1960, \"Genres\": [\"Fiction\", \"Classics\"]},\n",
    "    3: {\"Title\": \"The Great Gatsby\", \"Author\": \"F. Scott Fitzgerald\", \"Year\": 1925, \"Genres\": [\"Fiction\", \"Classics\"]},\n",
    "    4: {\"Title\": \"1984\", \"Author\": \"George Orwell\", \"Year\": 1949, \"Genres\": [\"Fiction\", \"Dystopian\"]},\n",
    "    5: {\"Title\": \"The Catcher in the Rye\", \"Author\": \"J.D. Salinger\", \"Year\": 1951, \"Genres\": [\"Fiction\", \"Classics\"]},\n",
    "    6: {\"Title\": \"Pride and Prejudice\", \"Author\": \"Jane Austen\", \"Year\": 1813, \"Genres\": [\"Fiction\", \"Romance\", \"Classics\"]},\n",
    "    7: {\"Title\": \"The Hobbit\", \"Author\": \"J.R.R. Tolkien\", \"Year\": 1937, \"Genres\": [\"Fantasy\", \"Adventure\"]},\n",
    "    8: {\"Title\": \"The Hunger Games\", \"Author\": \"Suzanne Collins\", \"Year\": 2008, \"Genres\": [\"Science Fiction\", \"Dystopian\", \"Young Adult\"]},\n",
    "    9: {\"Title\": \"The Da Vinci Code\", \"Author\": \"Dan Brown\", \"Year\": 2003, \"Genres\": [\"Mystery\", \"Thriller\"]},\n",
    "    10: {\"Title\": \"The Chronicles of Narnia\", \"Author\": \"C.S. Lewis\", \"Year\": 1950, \"Genres\": [\"Fantasy\", \"Children's Literature\"]},\n",
    "    11: {\"Title\": \"Gone with the Wind\", \"Author\": \"Margaret Mitchell\", \"Year\": 1936, \"Genres\": [\"Historical Fiction\", \"Romance\"]},\n",
    "    12: {\"Title\": \"Sapiens: A Brief History of Humankind\", \"Author\": \"Yuval Noah Harari\", \"Year\": 2011, \"Genres\": [\"Nonfiction\", \"History\", \"Science\"]},\n",
    "    13: {\"Title\": \"The Road\", \"Author\": \"Cormac McCarthy\", \"Year\": 2006, \"Genres\": [\"Fiction\", \"Post-Apocalyptic\"]},\n",
    "    14: {\"Title\": \"The Girl with the Dragon Tattoo\", \"Author\": \"Stieg Larsson\", \"Year\": 2005, \"Genres\": [\"Mystery\", \"Thriller\"]},\n",
    "    15: {\"Title\": \"The Alchemist\", \"Author\": \"Paulo Coelho\", \"Year\": 1988, \"Genres\": [\"Fiction\", \"Inspirational\"]}\n",
    "}\n",
    "\n",
    "        \n",
    "        \n",
    "add_books()\n",
    "\n",
    "print(books)\n",
    "\n"
   ]
  },
  {
   "cell_type": "markdown",
   "metadata": {
    "id": "kR5bvgOsF3oJ"
   },
   "source": [
    "#### Q2: Create a function that updates books exsisted in your library and test it.\n",
    "- **Note**: If the user entered wrong book ID it should print \"Book with ID 'num' does not exist."
   ]
  },
  {
   "cell_type": "code",
   "execution_count": 53,
   "metadata": {
    "id": "U60cFkbUUYmj"
   },
   "outputs": [
    {
     "name": "stdout",
     "output_type": "stream",
     "text": [
      "id16\n",
      "{'Title': 'a', 'Author': 'a', 'Year': 'a', 'Genres': 'a'}\n",
      "titlea\n",
      "Authora\n",
      "Yeara\n",
      "Genresa\n",
      "{'title': 'a', 'Author': 'a', 'Year': 'a', 'Genres': ['a']}\n",
      "{'title': 'a', 'Author': 'a', 'Year': 'a', 'Genres': ['a']}\n"
     ]
    }
   ],
   "source": [
    "def update():\n",
    "    ids=int(input(\"id\"))\n",
    "    if ids in books:\n",
    "        print(books[ids])\n",
    "\n",
    "        t=input(\"title\")\n",
    "        a=input(\"Author\")\n",
    "        y=input(\"Year\")\n",
    "        g=input(\"Genres\")\n",
    "        \n",
    "        books[ids]= {\"title\":t ,\"Author\":a ,\"Year\":y ,\"Genres\":[g]}\n",
    "        \n",
    "        print(books[ids])\n",
    "        \n",
    "    else:\n",
    "        print(f\"Book with ID '{ids}' does not exist.\")    \n",
    "    print(books[ids])\n",
    "\n",
    "    \n",
    "update()\n"
   ]
  },
  {
   "cell_type": "code",
   "execution_count": null,
   "metadata": {},
   "outputs": [],
   "source": []
  },
  {
   "cell_type": "markdown",
   "metadata": {
    "id": "ME3j_m-eLhyH"
   },
   "source": [
    "#### Q3: Create a function to delete books from your library and test it."
   ]
  },
  {
   "cell_type": "code",
   "execution_count": 54,
   "metadata": {
    "id": "JlGIx-gJUadK"
   },
   "outputs": [
    {
     "name": "stdout",
     "output_type": "stream",
     "text": [
      "Book ID16\n",
      "{1: {'Title': \"Harry Potter and the Sorcerer's Stone\", 'Author': 'J.K. Rowling', 'Year': 1997, 'Genres': ['Fantasy', 'Young Adult']}, 2: {'Title': 'To Kill a Mockingbird', 'Author': 'Harper Lee', 'Year': 1960, 'Genres': ['Fiction', 'Classics']}, 3: {'Title': 'The Great Gatsby', 'Author': 'F. Scott Fitzgerald', 'Year': 1925, 'Genres': ['Fiction', 'Classics']}, 4: {'Title': '1984', 'Author': 'George Orwell', 'Year': 1949, 'Genres': ['Fiction', 'Dystopian']}, 5: {'Title': 'The Catcher in the Rye', 'Author': 'J.D. Salinger', 'Year': 1951, 'Genres': ['Fiction', 'Classics']}, 6: {'Title': 'Pride and Prejudice', 'Author': 'Jane Austen', 'Year': 1813, 'Genres': ['Fiction', 'Romance', 'Classics']}, 7: {'Title': 'The Hobbit', 'Author': 'J.R.R. Tolkien', 'Year': 1937, 'Genres': ['Fantasy', 'Adventure']}, 8: {'Title': 'The Hunger Games', 'Author': 'Suzanne Collins', 'Year': 2008, 'Genres': ['Science Fiction', 'Dystopian', 'Young Adult']}, 9: {'Title': 'The Da Vinci Code', 'Author': 'Dan Brown', 'Year': 2003, 'Genres': ['Mystery', 'Thriller']}, 10: {'Title': 'The Chronicles of Narnia', 'Author': 'C.S. Lewis', 'Year': 1950, 'Genres': ['Fantasy', \"Children's Literature\"]}, 11: {'Title': 'Gone with the Wind', 'Author': 'Margaret Mitchell', 'Year': 1936, 'Genres': ['Historical Fiction', 'Romance']}, 12: {'Title': 'Sapiens: A Brief History of Humankind', 'Author': 'Yuval Noah Harari', 'Year': 2011, 'Genres': ['Nonfiction', 'History', 'Science']}, 13: {'Title': 'The Road', 'Author': 'Cormac McCarthy', 'Year': 2006, 'Genres': ['Fiction', 'Post-Apocalyptic']}, 14: {'Title': 'The Girl with the Dragon Tattoo', 'Author': 'Stieg Larsson', 'Year': 2005, 'Genres': ['Mystery', 'Thriller']}, 15: {'Title': 'The Alchemist', 'Author': 'Paulo Coelho', 'Year': 1988, 'Genres': ['Fiction', 'Inspirational']}}\n"
     ]
    }
   ],
   "source": [
    "def delete_books():\n",
    "    ids = int(input(\"Book ID\"))\n",
    "\n",
    "    books.pop(ids)\n",
    "delete_books()\n",
    "print(books)"
   ]
  },
  {
   "cell_type": "markdown",
   "metadata": {
    "id": "MIamnChwNgFr"
   },
   "source": [
    "#### Q4: Create a function that displays books information from your library and test it."
   ]
  },
  {
   "cell_type": "code",
   "execution_count": 55,
   "metadata": {
    "id": "xFNIK3YvUbz5"
   },
   "outputs": [
    {
     "name": "stdout",
     "output_type": "stream",
     "text": [
      "id15\n",
      "{'Title': 'The Alchemist', 'Author': 'Paulo Coelho', 'Year': 1988, 'Genres': ['Fiction', 'Inspirational']}\n"
     ]
    }
   ],
   "source": [
    "def display():\n",
    "    ids=int(input(\"id\"))\n",
    "    if ids in books:\n",
    "        print(books[ids])        \n",
    "    else:\n",
    "        print(f\"Book with ID '{ids}' does not exist.\")    \n",
    "        \n",
    "display()\n",
    "    "
   ]
  },
  {
   "cell_type": "markdown",
   "metadata": {
    "id": "OvfdKdBqNt22"
   },
   "source": [
    "#### Q5: Create functions to do the following: calculates and display the total number of books, the average publication year, and the most common genre. and test it."
   ]
  },
  {
   "cell_type": "code",
   "execution_count": 56,
   "metadata": {
    "id": "mWg5eHIWUcsU"
   },
   "outputs": [
    {
     "name": "stdout",
     "output_type": "stream",
     "text": [
      "The total number of books is: 15\n",
      "The Average of Years is: 1962.60\n",
      "The most common genre among the books is: Fiction\n"
     ]
    }
   ],
   "source": [
    "def library_info(books):\n",
    "    total = len(books)\n",
    "    print(\"The total number of books is: {}\".format(total))\n",
    "    \n",
    "    total_years = 0\n",
    "    valid_books_count = 0\n",
    "    for book_id, book_details in books.items():\n",
    "        if isinstance(book_details[\"Year\"], (int, float)):\n",
    "            total_years += float(book_details[\"Year\"])\n",
    "            valid_books_count += 1\n",
    "    \n",
    "    if valid_books_count != 0:\n",
    "        average = total_years / valid_books_count\n",
    "        print(\"The Average of Years is: {:.2f}\".format(average))\n",
    "    else:\n",
    "        print(\"No valid years found to calculate the average.\")\n",
    "    \n",
    "    genre_counts = {}\n",
    "    for book_details in books.values():\n",
    "        genres = book_details['Genres']\n",
    "        for genre in genres:\n",
    "            if genre in genre_counts:\n",
    "                genre_counts[genre] += 1\n",
    "            else:\n",
    "                genre_counts[genre] = 1\n",
    "\n",
    "    most_common_genre = max(genre_counts, key=genre_counts.get)\n",
    "    print(f\"The most common genre among the books is: {most_common_genre}\")\n",
    "\n",
    "library_info(books)"
   ]
  },
  {
   "cell_type": "markdown",
   "metadata": {
    "id": "IuVLtf7dQaUW"
   },
   "source": [
    "#### Q6: Create 2 functions to search for books by the title and the author from your library and test it."
   ]
  },
  {
   "cell_type": "code",
   "execution_count": 59,
   "metadata": {
    "id": "7LnwRJLCUe3p"
   },
   "outputs": [
    {
     "name": "stdout",
     "output_type": "stream",
     "text": [
      "title1984\n",
      "{'Title': '1984', 'Author': 'George Orwell', 'Year': 1949, 'Genres': ['Fiction', 'Dystopian']}\n",
      "AuthorGeorge Orwell\n",
      "{'Title': '1984', 'Author': 'George Orwell', 'Year': 1949, 'Genres': ['Fiction', 'Dystopian']}\n"
     ]
    }
   ],
   "source": [
    "def search_by_title(books):\n",
    "    t=input(\"title\")\n",
    "    f=False\n",
    "    for n in books.values():\n",
    "        if t == n[\"Title\"]:\n",
    "            print(n)\n",
    "            f=True\n",
    "       \n",
    "    if not f:\n",
    "         print(\"Book with the given title does not exist.\")\n",
    "\n",
    "        \n",
    "\n",
    "\n",
    "def search_by_author(books):\n",
    "    a=input(\"Author\")\n",
    "    f=False\n",
    "    for n in books.values():\n",
    "        if a == n[\"Author\"]:\n",
    "            print(n)\n",
    "            f=True\n",
    "            \n",
    "    if not f:\n",
    "         print(\"Book with the given title does not exist.\")\n",
    "search_by_title(books)\n",
    "search_by_author(books)  \n"
   ]
  },
  {
   "cell_type": "markdown",
   "metadata": {
    "id": "fAu2ozKBQzJu"
   },
   "source": [
    "#### Q7: Create 2 functions to sort the books by the title and the year from your library and test it."
   ]
  },
  {
   "cell_type": "code",
   "execution_count": 60,
   "metadata": {
    "id": "X4PyuHTMUgHl"
   },
   "outputs": [
    {
     "name": "stdout",
     "output_type": "stream",
     "text": [
      "Sorting books by year:\n",
      "Book ID: 6, Year: 1813, Title: Pride and Prejudice\n",
      "Book ID: 3, Year: 1925, Title: The Great Gatsby\n",
      "Book ID: 11, Year: 1936, Title: Gone with the Wind\n",
      "Book ID: 7, Year: 1937, Title: The Hobbit\n",
      "Book ID: 4, Year: 1949, Title: 1984\n",
      "Book ID: 10, Year: 1950, Title: The Chronicles of Narnia\n",
      "Book ID: 5, Year: 1951, Title: The Catcher in the Rye\n",
      "Book ID: 2, Year: 1960, Title: To Kill a Mockingbird\n",
      "Book ID: 15, Year: 1988, Title: The Alchemist\n",
      "Book ID: 1, Year: 1997, Title: Harry Potter and the Sorcerer's Stone\n",
      "Book ID: 9, Year: 2003, Title: The Da Vinci Code\n",
      "Book ID: 14, Year: 2005, Title: The Girl with the Dragon Tattoo\n",
      "Book ID: 13, Year: 2006, Title: The Road\n",
      "Book ID: 8, Year: 2008, Title: The Hunger Games\n",
      "Book ID: 12, Year: 2011, Title: Sapiens: A Brief History of Humankind\n",
      "\n",
      "Sorting books by title:\n",
      "Book ID: 4, Title: 1984, Year: 1949\n",
      "Book ID: 11, Title: Gone with the Wind, Year: 1936\n",
      "Book ID: 1, Title: Harry Potter and the Sorcerer's Stone, Year: 1997\n",
      "Book ID: 6, Title: Pride and Prejudice, Year: 1813\n",
      "Book ID: 12, Title: Sapiens: A Brief History of Humankind, Year: 2011\n",
      "Book ID: 15, Title: The Alchemist, Year: 1988\n",
      "Book ID: 5, Title: The Catcher in the Rye, Year: 1951\n",
      "Book ID: 10, Title: The Chronicles of Narnia, Year: 1950\n",
      "Book ID: 9, Title: The Da Vinci Code, Year: 2003\n",
      "Book ID: 14, Title: The Girl with the Dragon Tattoo, Year: 2005\n",
      "Book ID: 3, Title: The Great Gatsby, Year: 1925\n",
      "Book ID: 7, Title: The Hobbit, Year: 1937\n",
      "Book ID: 8, Title: The Hunger Games, Year: 2008\n",
      "Book ID: 13, Title: The Road, Year: 2006\n",
      "Book ID: 2, Title: To Kill a Mockingbird, Year: 1960\n"
     ]
    }
   ],
   "source": [
    "def sort_years(books):\n",
    "    sort_year = dict(sorted(books.items(), key=lambda x: int(x[1][\"Year\"])))\n",
    "    for book_id, book_details in sort_year.items():\n",
    "        print(f\"Book ID: {book_id}, Year: {book_details['Year']}, Title: {book_details['Title']}\")\n",
    "        \n",
    "def sort_title(books):\n",
    "    sort_title = dict(sorted(books.items(), key=lambda x: x[1][\"Title\"], reverse=False))\n",
    "    for book_id, book_details in sort_title.items():\n",
    "        print(f\"Book ID: {book_id}, Title: {book_details['Title']}, Year: {book_details['Year']}\")\n",
    "\n",
    "\n",
    "print(\"Sorting books by year:\")\n",
    "sort_years(books)\n",
    "\n",
    "print(\"\\nSorting books by title:\")\n",
    "sort_title(books)\n",
    "    "
   ]
  },
  {
   "cell_type": "markdown",
   "metadata": {
    "id": "KiaFO8rdiv4u"
   },
   "source": [
    "#### Q8: Create a function to bulk update genres of books using list comprehension. and test it."
   ]
  },
  {
   "cell_type": "code",
   "execution_count": 61,
   "metadata": {
    "id": "AbvXyE96UhVt"
   },
   "outputs": [
    {
     "name": "stdout",
     "output_type": "stream",
     "text": [
      "Book ID: 1\n",
      "Title: Harry Potter and the Sorcerer's Stone\n",
      "Author: J.K. Rowling\n",
      "Genres: Fantasy, Magic, Adventure\n",
      "\n",
      "Book ID: 2\n",
      "Title: To Kill a Mockingbird\n",
      "Author: Harper Lee\n",
      "Genres: Fiction, Classics\n",
      "\n",
      "Book ID: 3\n",
      "Title: The Great Gatsby\n",
      "Author: F. Scott Fitzgerald\n",
      "Genres: Literary Fiction\n",
      "\n",
      "Book ID: 4\n",
      "Title: 1984\n",
      "Author: George Orwell\n",
      "Genres: Fiction, Dystopian\n",
      "\n",
      "Book ID: 5\n",
      "Title: The Catcher in the Rye\n",
      "Author: J.D. Salinger\n",
      "Genres: Fiction, Classics\n",
      "\n",
      "Book ID: 6\n",
      "Title: Pride and Prejudice\n",
      "Author: Jane Austen\n",
      "Genres: Fiction, Romance, Classics\n",
      "\n",
      "Book ID: 7\n",
      "Title: The Hobbit\n",
      "Author: J.R.R. Tolkien\n",
      "Genres: Fantasy, Adventure\n",
      "\n",
      "Book ID: 8\n",
      "Title: The Hunger Games\n",
      "Author: Suzanne Collins\n",
      "Genres: Science Fiction, Dystopian, Young Adult\n",
      "\n",
      "Book ID: 9\n",
      "Title: The Da Vinci Code\n",
      "Author: Dan Brown\n",
      "Genres: Mystery, Thriller\n",
      "\n",
      "Book ID: 10\n",
      "Title: The Chronicles of Narnia\n",
      "Author: C.S. Lewis\n",
      "Genres: Fantasy, Children's Literature\n",
      "\n",
      "Book ID: 11\n",
      "Title: Gone with the Wind\n",
      "Author: Margaret Mitchell\n",
      "Genres: Historical Fiction, Romance\n",
      "\n",
      "Book ID: 12\n",
      "Title: Sapiens: A Brief History of Humankind\n",
      "Author: Yuval Noah Harari\n",
      "Genres: Nonfiction, History, Science\n",
      "\n",
      "Book ID: 13\n",
      "Title: The Road\n",
      "Author: Cormac McCarthy\n",
      "Genres: Fiction, Post-Apocalyptic\n",
      "\n",
      "Book ID: 14\n",
      "Title: The Girl with the Dragon Tattoo\n",
      "Author: Stieg Larsson\n",
      "Genres: Mystery, Thriller\n",
      "\n",
      "Book ID: 15\n",
      "Title: The Alchemist\n",
      "Author: Paulo Coelho\n",
      "Genres: Fiction, Inspirational\n",
      "\n"
     ]
    }
   ],
   "source": [
    "\n",
    "def bulk_update_genres(books, genre_updates):\n",
    "    updated_books = {\n",
    "        book_id: {**book_details, \"Genres\": genre_updates.get(book_id, book_details[\"Genres\"])}\n",
    "        for book_id, book_details in books.items()\n",
    "    }\n",
    "    return updated_books\n",
    "\n",
    "genre_updates = {\n",
    "    1: [\"Fantasy\", \"Magic\", \"Adventure\"],\n",
    "    3: [\"Literary Fiction\"]\n",
    "}\n",
    "\n",
    "updated_books = bulk_update_genres(books, genre_updates)\n",
    "\n",
    "for book_id, book_details in updated_books.items():\n",
    "    print(f\"Book ID: {book_id}\")\n",
    "    print(f\"Title: {book_details['Title']}\")\n",
    "    print(f\"Author: {book_details['Author']}\")\n",
    "    print(f\"Genres: {', '.join(book_details['Genres'])}\")\n",
    "    print()"
   ]
  },
  {
   "cell_type": "markdown",
   "metadata": {
    "id": "ZWkmOUNgi6V_"
   },
   "source": [
    "#### Q9: Implement a function to generate a report summarizing the library's statistics, including the total number of books, the number of books by each author, the number of books in each genre, and the oldest and newest books. and test it."
   ]
  },
  {
   "cell_type": "code",
   "execution_count": 62,
   "metadata": {
    "id": "Okjlb9pTUloe"
   },
   "outputs": [
    {
     "name": "stdout",
     "output_type": "stream",
     "text": [
      "The number of books: 15\n",
      "J.K. Rowling has 1 book(s).\n",
      "Harper Lee has 1 book(s).\n",
      "F. Scott Fitzgerald has 1 book(s).\n",
      "George Orwell has 1 book(s).\n",
      "J.D. Salinger has 1 book(s).\n",
      "Jane Austen has 1 book(s).\n",
      "J.R.R. Tolkien has 1 book(s).\n",
      "Suzanne Collins has 1 book(s).\n",
      "Dan Brown has 1 book(s).\n",
      "C.S. Lewis has 1 book(s).\n",
      "Margaret Mitchell has 1 book(s).\n",
      "Yuval Noah Harari has 1 book(s).\n",
      "Cormac McCarthy has 1 book(s).\n",
      "Stieg Larsson has 1 book(s).\n",
      "Paulo Coelho has 1 book(s).\n",
      "There are 3 book(s) in the genre 'Fantasy'.\n",
      "There are 2 book(s) in the genre 'Young Adult'.\n",
      "There are 7 book(s) in the genre 'Fiction'.\n",
      "There are 4 book(s) in the genre 'Classics'.\n",
      "There are 2 book(s) in the genre 'Dystopian'.\n",
      "There are 2 book(s) in the genre 'Romance'.\n",
      "There are 1 book(s) in the genre 'Adventure'.\n",
      "There are 1 book(s) in the genre 'Science Fiction'.\n",
      "There are 2 book(s) in the genre 'Mystery'.\n",
      "There are 2 book(s) in the genre 'Thriller'.\n",
      "There are 1 book(s) in the genre 'Children's Literature'.\n",
      "There are 1 book(s) in the genre 'Historical Fiction'.\n",
      "There are 1 book(s) in the genre 'Nonfiction'.\n",
      "There are 1 book(s) in the genre 'History'.\n",
      "There are 1 book(s) in the genre 'Science'.\n",
      "There are 1 book(s) in the genre 'Post-Apocalyptic'.\n",
      "There are 1 book(s) in the genre 'Inspirational'.\n",
      "\n",
      "Oldest Book:\n",
      "Title: Pride and Prejudice\n",
      "Author: Jane Austen\n",
      "Publication Year: 1813\n",
      "\n",
      "Newest Book:\n",
      "Title: Sapiens: A Brief History of Humankind\n",
      "Author: Yuval Noah Harari\n",
      "Publication Year: 2011\n"
     ]
    }
   ],
   "source": [
    "def stactic(books):\n",
    "    num_keys = len(books)\n",
    "    print(f\"The number of books: {num_keys}\")\n",
    "    \n",
    "    author_counts = {}\n",
    "    genre_counts = {}\n",
    "    \n",
    "    for book_id, book_details in books.items():\n",
    "        author = book_details[\"Author\"]\n",
    "        \n",
    "        if author in author_counts:\n",
    "            author_counts[author] += 1\n",
    "        else:\n",
    "            author_counts[author] = 1\n",
    "\n",
    "    for author, count in author_counts.items():\n",
    "        print(f\"{author} has {count} book(s).\")\n",
    "\n",
    "    for book in books.values():\n",
    "        genres = book[\"Genres\"]\n",
    "        for genre in genres:\n",
    "            genre_counts[genre] = genre_counts.get(genre, 0) + 1\n",
    "\n",
    "    for genre, count in genre_counts.items():\n",
    "        print(f\"There are {count} book(s) in the genre '{genre}'.\")\n",
    "\n",
    "    oldest_book = min(books.values(), key=lambda x: int(x[\"Year\"]))\n",
    "    newest_book = max(books.values(), key=lambda x: int(x[\"Year\"]))\n",
    "\n",
    "    print(\"\\nOldest Book:\")\n",
    "    print(f\"Title: {oldest_book['Title']}\")\n",
    "    print(f\"Author: {oldest_book['Author']}\")\n",
    "    print(f\"Publication Year: {oldest_book['Year']}\")\n",
    "\n",
    "    print(\"\\nNewest Book:\")\n",
    "    print(f\"Title: {newest_book['Title']}\")\n",
    "    print(f\"Author: {newest_book['Author']}\")\n",
    "    print(f\"Publication Year: {newest_book['Year']}\")\n",
    "\n",
    "\n",
    "stactic(books)"
   ]
  },
  {
   "cell_type": "code",
   "execution_count": null,
   "metadata": {},
   "outputs": [],
   "source": []
  }
 ],
 "metadata": {
  "colab": {
   "provenance": []
  },
  "kernelspec": {
   "display_name": "Python 3 (ipykernel)",
   "language": "python",
   "name": "python3"
  },
  "language_info": {
   "codemirror_mode": {
    "name": "ipython",
    "version": 3
   },
   "file_extension": ".py",
   "mimetype": "text/x-python",
   "name": "python",
   "nbconvert_exporter": "python",
   "pygments_lexer": "ipython3",
   "version": "3.11.4"
  }
 },
 "nbformat": 4,
 "nbformat_minor": 1
}
