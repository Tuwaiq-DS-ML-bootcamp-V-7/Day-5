{
 "cells": [
  {
   "cell_type": "markdown",
   "metadata": {},
   "source": [
    "# Python_Lab_3\n"
   ]
  },
  {
   "cell_type": "markdown",
   "metadata": {},
   "source": [
    "### Task 1\n",
    "- Write a function named **'create_student_records'** that takes a list of tuples. Each tuple contains a student's name and their scores in three subjects. The function should return a list of dictionaries, where each dictionary represents a student with keys: name, subject1, subject2, subject3. Use list comprehension to create the list of dictionaries."
   ]
  },
  {
   "cell_type": "code",
   "execution_count": 27,
   "metadata": {},
   "outputs": [
    {
     "data": {
      "text/plain": [
       "[{'name': 'Eman', 'subject1': 100, 'subject2': 81, 'subject3': 88},\n",
       " {'name': 'Amani', 'subject1': 80, 'subject2': 70, 'subject3': 71},\n",
       " {'name': 'Elaf', 'subject1': 90, 'subject2': 88, 'subject3': 70}]"
      ]
     },
     "execution_count": 27,
     "metadata": {},
     "output_type": "execute_result"
    }
   ],
   "source": [
    "list_of_tuple=[(\"Eman\",100,81,88),(\"Amani\",80,70,71),(\"Elaf\",90,88,70)]\n",
    "\n",
    "def create_student_records():\n",
    "     list_of_dict=[{\"name\":stu[0],\"subject1\":stu[1],\"subject2\":stu[2],\"subject3\":stu[3]}for stu in list_of_tuple]\n",
    "     return list_of_dict\n",
    "    \n",
    "create_student_records()      "
   ]
  },
  {
   "cell_type": "markdown",
   "metadata": {},
   "source": [
    "### Task 2\n",
    "- Write a function named **'filter_and_sort_students'** that takes the list of dictionaries from Question 1 and returns a sorted list of student names who have an average score of 80 or more across all subjects. Sort the names in alphabetical order."
   ]
  },
  {
   "cell_type": "code",
   "execution_count": 56,
   "metadata": {},
   "outputs": [
    {
     "data": {
      "text/plain": [
       "['Elaf', 'Eman']"
      ]
     },
     "execution_count": 56,
     "metadata": {},
     "output_type": "execute_result"
    }
   ],
   "source": [
    "\n",
    "list_of_dict=[{\"name\":stu[0],\"subject1\":stu[1],\"subject2\":stu[2],\"subject3\":stu[3]}for stu in list_of_tuple]\n",
    "  \n",
    "\n",
    "def filter_and_sort_students():\n",
    "    filtered_student=[stu for stu in list_of_dict if (stu[\"subject1\"]+stu[\"subject2\"]+stu[\"subject3\"])/3 >= 80]\n",
    "    student_names = [stu[\"name\"] for stu in filtered_student]\n",
    "    student_names.sort()\n",
    "    return student_names\n",
    "  \n",
    "filter_and_sort_students()\n"
   ]
  },
  {
   "cell_type": "markdown",
   "metadata": {},
   "source": [
    "### Task 3\n",
    "- Write a function named **'get_product_info'** that prompts the user to enter information about a product. The function should ask for the product name, product price, and product quantity. If the user enters an invalid input (e.g., a non-numeric value for the price or quantity), the function should handle the error and prompt the user to enter the value again. Return a dictionary containing the product information."
   ]
  },
  {
   "cell_type": "code",
   "execution_count": 77,
   "metadata": {},
   "outputs": [
    {
     "name": "stdin",
     "output_type": "stream",
     "text": [
      "Enter product name:  coca\n",
      "Enter product price:  o\n"
     ]
    },
    {
     "name": "stdout",
     "output_type": "stream",
     "text": [
      "Price or quantity is not a numeric value. Please enter the product information again.\n"
     ]
    },
    {
     "name": "stdin",
     "output_type": "stream",
     "text": [
      "Enter product name:  coca\n",
      "Enter product price:  2\n",
      "Enter product quantity:  23\n"
     ]
    },
    {
     "name": "stdout",
     "output_type": "stream",
     "text": [
      "{'product name': 'coca', 'product price': 2.0, 'product quantity': 23}\n"
     ]
    }
   ],
   "source": [
    "def get_product_info():\n",
    "    try:\n",
    "        name_of_product = input(\"Enter product name: \")\n",
    "        price_of_product = float(input(\"Enter product price: \"))\n",
    "        quantity_of_product = int(input(\"Enter product quantity: \"))\n",
    "    except ValueError:\n",
    "        print(\"Price or quantity is not a numeric value. Please enter the product information again.\")\n",
    "        return get_product_info()  \n",
    "\n",
    "    \n",
    "    product_dict = {\n",
    "        \"product name\": name_of_product,\n",
    "        \"product price\": price_of_product,\n",
    "        \"product quantity\": quantity_of_product\n",
    "    }\n",
    "    return product_dict\n",
    "\n",
    "product_info = get_product_info()\n",
    "print(product_info)\n"
   ]
  },
  {
   "cell_type": "markdown",
   "metadata": {},
   "source": [
    "### Task 4\n",
    "- Write a function named **'get_even_numbers'** that takes a list of integers and returns a list of even numbers using list comprehension."
   ]
  },
  {
   "cell_type": "code",
   "execution_count": 79,
   "metadata": {},
   "outputs": [
    {
     "data": {
      "text/plain": [
       "[2, 4, 6, 8, 10, 12, 14, 16, 18, 20]"
      ]
     },
     "execution_count": 79,
     "metadata": {},
     "output_type": "execute_result"
    }
   ],
   "source": [
    "list_of_number=[1,2,3,4,5,6,7,8,9,10,12,13,14,15,16,17,18,19,20]\n",
    "def get_even_numbers():\n",
    "    even_list=[even_num  for even_num in list_of_number if even_num %2==0]\n",
    "\n",
    "    return even_list\n",
    "get_even_numbers()"
   ]
  },
  {
   "cell_type": "markdown",
   "metadata": {},
   "source": [
    "### Task 5\n",
    "- Write a function named **'pair_elements'** that takes two lists of equal length as parameters and returns a list of tuples, where each tuple contains corresponding elements from the two lists. Use the zip function to achieve this."
   ]
  },
  {
   "cell_type": "code",
   "execution_count": 82,
   "metadata": {},
   "outputs": [
    {
     "data": {
      "text/plain": [
       "[(1, 4), (2, 5), (3, 6)]"
      ]
     },
     "execution_count": 82,
     "metadata": {},
     "output_type": "execute_result"
    }
   ],
   "source": [
    "def pair_elements(list1=[] ,list2=[]):\n",
    "    if len(list1) == len(list2):\n",
    "        list3= list(zip(list1,list2))\n",
    "    return list3\n",
    "\n",
    "pair_elements([1,2,3] ,[4,5,6])\n",
    "    "
   ]
  },
  {
   "cell_type": "markdown",
   "metadata": {},
   "source": [
    "### Task 6\n",
    "- Write a function named **'square_dict_lambda'** that takes a list of integers and returns a dictionary where the keys are the integers and the values are their squares. Use a lambda function within a dictionary comprehension to achieve this."
   ]
  },
  {
   "cell_type": "code",
   "execution_count": 85,
   "metadata": {},
   "outputs": [
    {
     "data": {
      "text/plain": [
       "{1: 1, 2: 4, 3: 9, 4: 16, 5: 25, 6: 36, 7: 49, 8: 64, 9: 81}"
      ]
     },
     "execution_count": 85,
     "metadata": {},
     "output_type": "execute_result"
    }
   ],
   "source": [
    "def square_dict_lambda(list_of_integer):\n",
    "    square_dict={number: (lambda x:x**2)(number) for number in list_of_integer}\n",
    "    return square_dict\n",
    "\n",
    "square_dict_lambda([1,2,3,4,5,6,7,8,9])   "
   ]
  }
 ],
 "metadata": {
  "kernelspec": {
   "display_name": "Python 3 (ipykernel)",
   "language": "python",
   "name": "python3"
  },
  "language_info": {
   "codemirror_mode": {
    "name": "ipython",
    "version": 3
   },
   "file_extension": ".py",
   "mimetype": "text/x-python",
   "name": "python",
   "nbconvert_exporter": "python",
   "pygments_lexer": "ipython3",
   "version": "3.12.4"
  }
 },
 "nbformat": 4,
 "nbformat_minor": 4
}
